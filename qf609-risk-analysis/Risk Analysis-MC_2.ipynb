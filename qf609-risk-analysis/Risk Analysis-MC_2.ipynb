{
 "cells": [
  {
   "cell_type": "code",
   "execution_count": 390,
   "id": "13f21cdb-15ed-409b-a10d-07ad4ee9e1a1",
   "metadata": {},
   "outputs": [],
   "source": [
    "# Python calculation for the example and exercise from Lecture 4 notes\n",
    "import numpy as np\n",
    "import os\n",
    "import math\n",
    "import pandas as pd\n",
    "import scipy.stats as stat\n",
    "import scipy.interpolate\n",
    "import statistics\n",
    "from statistics import NormalDist"
   ]
  },
  {
   "cell_type": "code",
   "execution_count": 392,
   "id": "cf487cc0-db32-4320-b5f1-8739156332a2",
   "metadata": {},
   "outputs": [],
   "source": [
    "hist_data = pd.read_excel(\"hist_data.xlsm\")"
   ]
  },
  {
   "cell_type": "code",
   "execution_count": 394,
   "id": "75f53c15-eb31-4cff-9511-334e3615b687",
   "metadata": {},
   "outputs": [],
   "source": [
    "#daily movement from swap rate\n",
    "SOFR = pd.read_excel(\"hist_data.xlsm\",sheet_name=0)\n",
    "SOFR_new=SOFR.set_index(\"T\")\n",
    "SOFR_new=SOFR_new.drop([\"Tenor\"],axis=1)\n",
    "SOFR_T=SOFR_new.T\n",
    "SOFR_T.index=pd.to_datetime(SOFR_T.index).date"
   ]
  },
  {
   "cell_type": "code",
   "execution_count": 396,
   "id": "bbd0f665-185d-48a0-891b-57dd66f0221a",
   "metadata": {},
   "outputs": [],
   "source": [
    "#SOFR Absolute Variable\n",
    "SOFR_val=(SOFR_T.diff()*10000).dropna() #bps\n",
    "corr_sofr=SOFR_val.corr().values\n",
    "cov_sofr=SOFR_val.cov().values\n",
    "SOFR_M=SOFR_val.mean().values\n",
    "SOFR_SD=SOFR_val.std().values"
   ]
  },
  {
   "cell_type": "code",
   "execution_count": 416,
   "id": "83ab6a18-5e18-4490-bb64-5996a12644d2",
   "metadata": {},
   "outputs": [],
   "source": [
    "# Monte Carlo VaR - SOFR\n",
    "n_SOFR = SOFR_val.shape[1] #this is the number of tenors --> therefore number of risks\n",
    "factor_loadings_sofr = np.linalg.cholesky(corr_sofr)\n",
    "np.random.seed(29)\n",
    "uniforms_sofr = np.random.uniform(size=(100000,n_SOFR))\n",
    "snorms_sofr = [ [NormalDist().inv_cdf(k) for k in g]  for g in uniforms_sofr]\n",
    "snorms_correlated_sofr = np.dot(snorms_sofr, factor_loadings_sofr.transpose())"
   ]
  },
  {
   "cell_type": "code",
   "execution_count": 417,
   "id": "c936f1e4-3aa9-4d31-be74-43be6163d110",
   "metadata": {},
   "outputs": [
    {
     "name": "stdout",
     "output_type": "stream",
     "text": [
      "12621.44370645612\n",
      "15148.280518389363\n"
     ]
    }
   ],
   "source": [
    "abs_chng_sofr_mc = (snorms_correlated_sofr * SOFR_SD) + SOFR_M\n",
    "\n",
    "sofr_curve_t0 = SOFR_T.iloc[-1] #latest value\n",
    "Tenor_of_SOFR_new = range(1,11) #1Y to 10Y\n",
    "swap_zero_rates_t0 = sofr_curve_t0[Tenor_of_SOFR_new].values\n",
    "\n",
    "swap_pnl_1d_full_mc = []\n",
    "swap_pnl_1d_sens_mc = []\n",
    "for delta in abs_chng_sofr_mc:\n",
    "    swap_zero_rates_delta = delta[Tenor_of_SOFR_new]/10000 # this returns the delta for the respective tenors\n",
    "    swap_zero_rates_t1 = swap_zero_rates_t0 + swap_zero_rates_delta\n",
    "    pnl_full = swap_pnl_1d_full(swap_zero_rates_t0,swap_zero_rates_t1,Tenor_of_SOFR_new)\n",
    "    pnl_sens = swap_pnl_1d_sens(swap_zero_rates_t0,swap_zero_rates_delta,Tenor_of_SOFR_new)\n",
    "    swap_pnl_1d_full_mc.append(pnl_full)\n",
    "    swap_pnl_1d_sens_mc.append(pnl_sens)\n",
    "\n",
    "print(np.mean(swap_pnl_1d_full_mc))\n",
    "print(np.mean(swap_pnl_1d_sens_mc))"
   ]
  },
  {
   "cell_type": "code",
   "execution_count": 418,
   "id": "bcd01a57-6da7-48fc-9049-60cda50c3eb8",
   "metadata": {},
   "outputs": [],
   "source": [
    "#SOFR\n",
    "def get_discount_curve(zero_rates,tenors):\n",
    "    Z = np.array(zero_rates)\n",
    "    T = np.array(tenors)\n",
    "    return np.exp(-Z*T)\n",
    "\n",
    "\n",
    "def get_forward_curve(zero_rates,tenors):\n",
    "    DF = get_discount_curve(zero_rates, tenors)\n",
    "    DF_start = np.concatenate([[1], DF[:-1]]) # first DF=1. we dont consider forward swap here\n",
    "    DF_end = DF\n",
    "    F = (DF_start - DF_end) / DF_end\n",
    "    return F\n",
    "    \n",
    "\n",
    "def get_payer_swap_pv(zero_rates,tenors,swap_rate=0.042, notional=100000000):\n",
    "    DF = get_discount_curve(zero_rates, tenors)\n",
    "    F = get_forward_curve(zero_rates, tenors)\n",
    "    pv_fix = swap_rate*sum(DF)\n",
    "    pv_flt = sum(F*DF)\n",
    "    return notional*(pv_flt - pv_fix)\n",
    "\n",
    "\n",
    "def swap_pnl_1d_full(zero_rates_t0,zero_rates_t1,tenors):\n",
    "    pv_t0 = get_payer_swap_pv(zero_rates_t0, tenors)\n",
    "    pv_t1 = get_payer_swap_pv(zero_rates_t1, tenors)\n",
    "    return pv_t1 - pv_t0\n",
    "\n",
    "\n",
    "def swap_pnl_1d_sens(zero_rates_t0,zero_rates_chng,tenors,swap_rate=0.042,notional=100000000):    \n",
    "    zero_rates_chng = np.array(zero_rates_chng)\n",
    "    tenors = np.array(tenors)\n",
    "    DF_t0 = get_discount_curve(zero_rates_t0, tenors)\n",
    "    W = notional * swap_rate * tenors * DF_t0  # weight of risk factors in PnL sensitivity\n",
    "    W[-1] = notional * (1+swap_rate) * tenors[-1] * DF_t0[-1]\n",
    "    return W @ zero_rates_chng"
   ]
  },
  {
   "cell_type": "code",
   "execution_count": 420,
   "id": "01744752-3b84-4db5-a16c-8cc7b8176b9d",
   "metadata": {},
   "outputs": [],
   "source": [
    "AAPL = pd.read_excel(\"/Users/jiayu/Downloads/hist_data.xlsm\",sheet_name=1).set_index(\"Date\")\n",
    "AAPL.index=pd.to_datetime(AAPL.index,dayfirst=True).date\n",
    "AAPL=AAPL.sort_index()\n",
    "\n",
    "MSFT = pd.read_excel(\"/Users/jiayu/Downloads/hist_data.xlsm\",sheet_name=2).set_index(\"Date\")\n",
    "MSFT.index=pd.to_datetime(MSFT.index,dayfirst=True).date\n",
    "MSFT=MSFT.sort_index()\n",
    "\n",
    "F= pd.read_excel(\"/Users/jiayu/Downloads/hist_data.xlsm\",sheet_name=3).set_index(\"Date\")\n",
    "F.index=pd.to_datetime(F.index,dayfirst=True).date\n",
    "F=F.sort_index()\n",
    "\n",
    "BAC = pd.read_excel(\"/Users/jiayu/Downloads/hist_data.xlsm\",sheet_name=4).set_index(\"Date\")\n",
    "BAC.index=pd.to_datetime(BAC.index,dayfirst=True).date\n",
    "BAC=BAC.sort_index()\n"
   ]
  },
  {
   "cell_type": "code",
   "execution_count": 421,
   "id": "cc7cb6d8-566e-49f4-adfc-89e255d73231",
   "metadata": {},
   "outputs": [],
   "source": [
    "closing_all = pd.DataFrame({ 'AAPL': pd.Series(AAPL[\"Adj Close\"]).pct_change().dropna(),'BAC': pd.Series(BAC[\"Adj Close\"]).pct_change().dropna(),'F': pd.Series(F[\"Adj Close\"]).pct_change().dropna(),'MSFT': pd.Series(MSFT[\"Adj Close\"]).pct_change().dropna()})"
   ]
  },
  {
   "cell_type": "code",
   "execution_count": 422,
   "id": "9b9b1035-0080-4de1-88a8-fb6bc9b02061",
   "metadata": {},
   "outputs": [],
   "source": [
    "corr_mat=closing_all.corr()\n",
    "cov_mat=closing_all.cov()\n",
    "\n",
    "AAPL_M=closing_all.loc[:,\"AAPL\"].mean()\n",
    "AAPL_SD=closing_all.loc[:,\"AAPL\"].std()\n",
    "\n",
    "MSFT_M=closing_all.loc[:,\"MSFT\"].mean()\n",
    "MSFT_SD=closing_all.loc[:,\"MSFT\"].std()\n",
    "\n",
    "F_M=closing_all.loc[:,\"F\"].mean()\n",
    "F_SD=closing_all.loc[:,\"F\"].std()\n",
    "\n",
    "BAC_M=closing_all.loc[:,\"BAC\"].mean()\n",
    "BAC_SD=closing_all.loc[:,\"BAC\"].std()\n",
    "\n",
    "\n",
    "mean_vec=np.array([AAPL_M,MSFT_M,F_M,BAC_M])\n",
    "Last_Price=closing_all.iloc[-1]"
   ]
  },
  {
   "cell_type": "code",
   "execution_count": 423,
   "id": "1638eb70-9a44-4ad0-930f-6a1209d823a0",
   "metadata": {},
   "outputs": [],
   "source": [
    "# full revaluation 1d pnl evaluation\n",
    "def pnl1d_full(aapl_return, bac_return, f_return, msft_return):\n",
    "    return 100000*(Last_Price[0]*((1+aapl_return)-1) + Last_Price[3]*((1+msft_return)-1)+Last_Price[2]*((1+f_return)-1)+Last_Price[1]*((1+bac_return)-1))\n",
    "\n",
    "# sensitivity based 1d pnl evaluation \n",
    "def pnl1d_sen(aapl_return, bac_return, f_return, msft_return):\n",
    "    return  100000*(Last_Price[0]*aapl_return+Last_Price[3]*msft_return+Last_Price[2]*f_return+ Last_Price[1]*bac_return)\n"
   ]
  },
  {
   "cell_type": "code",
   "execution_count": 424,
   "id": "57818247-0f03-4979-a6be-c9357381b678",
   "metadata": {},
   "outputs": [
    {
     "name": "stderr",
     "output_type": "stream",
     "text": [
      "/var/folders/mb/3crcdgmn079fvqs204k59lg40000gn/T/ipykernel_33882/3658623327.py:3: FutureWarning: Series.__getitem__ treating keys as positions is deprecated. In a future version, integer keys will always be treated as labels (consistent with DataFrame behavior). To access a value by position, use `ser.iloc[pos]`\n",
      "  return 100000*(Last_Price[0]*((1+aapl_return)-1) + Last_Price[3]*((1+msft_return)-1)+Last_Price[2]*((1+f_return)-1)+Last_Price[1]*((1+bac_return)-1))\n",
      "/var/folders/mb/3crcdgmn079fvqs204k59lg40000gn/T/ipykernel_33882/3658623327.py:7: FutureWarning: Series.__getitem__ treating keys as positions is deprecated. In a future version, integer keys will always be treated as labels (consistent with DataFrame behavior). To access a value by position, use `ser.iloc[pos]`\n",
      "  return  100000*(Last_Price[0]*aapl_return+Last_Price[3]*msft_return+Last_Price[2]*f_return+ Last_Price[1]*bac_return)\n"
     ]
    },
    {
     "name": "stdout",
     "output_type": "stream",
     "text": [
      "\n",
      "\n",
      "============================================================================================================================\n",
      "Monte Carlo VaR:\n",
      "VaR [1d, 95%], Full Revaluation: 1,042,078\n",
      "\n",
      "VaR [1d, 95%], Sensitivity: 1,035,052\n",
      "============================================================================================================================\n"
     ]
    }
   ],
   "source": [
    "# Monte Carlo VaR - Stocks\n",
    "n_mc = 100000\n",
    "factor_loadings = np.linalg.cholesky(corr_mat)\n",
    "np.random.seed(329)\n",
    "uniforms = np.random.uniform(size=(n_mc,4))\n",
    "snorms = [ [NormalDist().inv_cdf(u) for u in r]  for r in uniforms]\n",
    "snorms_correlated = np.dot(snorms, factor_loadings.transpose())\n",
    "return1d_sample = [[ AAPL_M + AAPL_SD * z[0],   MSFT_M + MSFT_SD * z[1], F_M + F_SD * z[2], BAC_M + BAC_SD * z[3]]  for z in snorms_correlated]\n",
    "pnl1d_full_sample =  np.array([pnl1d_full(s[0], s[1], s[2],s[3])  for s in return1d_sample])+ np.array(swap_pnl_1d_full_mc)\n",
    "var1d_full_mc = np.abs(np.percentile(pnl1d_full_sample, 5))\n",
    "pnl1d_sen_sample = np.array([ pnl1d_sen(s[0], s[1], s[2],s[3])  for s in return1d_sample])+ np.array(swap_pnl_1d_sens_mc)\n",
    "var1d_sen_mc = np.abs(np.percentile(pnl1d_sen_sample, 5))\n",
    "print(\"\")\n",
    "print(\"\")\n",
    "print(\"============================================================================================================================\")\n",
    "print(\"Monte Carlo VaR:\")\n",
    "print(f\"VaR [1d, 95%], Full Revaluation: {var1d_full_mc:,.0f}\") \n",
    "print(\"\")\n",
    "print(f\"VaR [1d, 95%], Sensitivity: {var1d_sen_mc:,.0f}\") \n",
    "print(\"============================================================================================================================\")\n"
   ]
  },
  {
   "cell_type": "code",
   "execution_count": null,
   "id": "0f646941-58c3-406b-a29f-38ea5e21c690",
   "metadata": {},
   "outputs": [],
   "source": []
  }
 ],
 "metadata": {
  "kernelspec": {
   "display_name": "Python 3 (ipykernel)",
   "language": "python",
   "name": "python3"
  },
  "language_info": {
   "codemirror_mode": {
    "name": "ipython",
    "version": 3
   },
   "file_extension": ".py",
   "mimetype": "text/x-python",
   "name": "python",
   "nbconvert_exporter": "python",
   "pygments_lexer": "ipython3",
   "version": "3.12.4"
  }
 },
 "nbformat": 4,
 "nbformat_minor": 5
}
