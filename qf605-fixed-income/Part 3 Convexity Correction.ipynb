{
 "cells": [
  {
   "cell_type": "code",
   "execution_count": 1,
   "metadata": {},
   "outputs": [],
   "source": [
    "import pandas as pd\n",
    "import numpy as np\n",
    "import os\n",
    "import pickle\n",
    "from scipy.stats import norm\n",
    "from scipy.optimize import fsolve\n",
    "from scipy import interpolate\n",
    "from scipy.interpolate import interp1d\n",
    "from scipy.integrate import quad\n",
    "from scipy.optimize import least_squares\n",
    "from datetime import datetime\n",
    "import matplotlib.pyplot as plt"
   ]
  },
  {
   "cell_type": "code",
   "execution_count": null,
   "metadata": {},
   "outputs": [
    {
     "data": {
      "application/vnd.microsoft.datawrangler.viewer.v0+json": {
       "columns": [
        {
         "name": "index",
         "rawType": "int64",
         "type": "integer"
        },
        {
         "name": "Tenor",
         "rawType": "float64",
         "type": "float"
        },
        {
         "name": "Product",
         "rawType": "object",
         "type": "string"
        },
        {
         "name": "Rate",
         "rawType": "float64",
         "type": "float"
        },
        {
         "name": "Tenor_Delta",
         "rawType": "float64",
         "type": "float"
        }
       ],
       "conversionMethod": "pd.DataFrame",
       "ref": "accaefc1-ca88-4c1d-9967-929cf9876187",
       "rows": [
        [
         "0",
         "0.5",
         "OIS",
         "0.0025",
         "0.5"
        ],
        [
         "1",
         "1.0",
         "OIS",
         "0.003",
         "0.5"
        ],
        [
         "2",
         "2.0",
         "OIS",
         "0.00325",
         "1.0"
        ],
        [
         "3",
         "3.0",
         "OIS",
         "0.00335",
         "1.0"
        ],
        [
         "4",
         "4.0",
         "OIS",
         "0.0035",
         "1.0"
        ],
        [
         "5",
         "5.0",
         "OIS",
         "0.0036",
         "1.0"
        ],
        [
         "6",
         "7.0",
         "OIS",
         "0.004",
         "2.0"
        ],
        [
         "7",
         "10.0",
         "OIS",
         "0.0045",
         "3.0"
        ],
        [
         "8",
         "15.0",
         "OIS",
         "0.005",
         "5.0"
        ],
        [
         "9",
         "20.0",
         "OIS",
         "0.00525",
         "5.0"
        ],
        [
         "10",
         "30.0",
         "OIS",
         "0.0055",
         "10.0"
        ]
       ],
       "shape": {
        "columns": 4,
        "rows": 11
       }
      },
      "text/html": [
       "<div>\n",
       "<style scoped>\n",
       "    .dataframe tbody tr th:only-of-type {\n",
       "        vertical-align: middle;\n",
       "    }\n",
       "\n",
       "    .dataframe tbody tr th {\n",
       "        vertical-align: top;\n",
       "    }\n",
       "\n",
       "    .dataframe thead th {\n",
       "        text-align: right;\n",
       "    }\n",
       "</style>\n",
       "<table border=\"1\" class=\"dataframe\">\n",
       "  <thead>\n",
       "    <tr style=\"text-align: right;\">\n",
       "      <th></th>\n",
       "      <th>Tenor</th>\n",
       "      <th>Product</th>\n",
       "      <th>Rate</th>\n",
       "      <th>Tenor_Delta</th>\n",
       "    </tr>\n",
       "  </thead>\n",
       "  <tbody>\n",
       "    <tr>\n",
       "      <th>0</th>\n",
       "      <td>0.5</td>\n",
       "      <td>OIS</td>\n",
       "      <td>0.00250</td>\n",
       "      <td>0.5</td>\n",
       "    </tr>\n",
       "    <tr>\n",
       "      <th>1</th>\n",
       "      <td>1.0</td>\n",
       "      <td>OIS</td>\n",
       "      <td>0.00300</td>\n",
       "      <td>0.5</td>\n",
       "    </tr>\n",
       "    <tr>\n",
       "      <th>2</th>\n",
       "      <td>2.0</td>\n",
       "      <td>OIS</td>\n",
       "      <td>0.00325</td>\n",
       "      <td>1.0</td>\n",
       "    </tr>\n",
       "    <tr>\n",
       "      <th>3</th>\n",
       "      <td>3.0</td>\n",
       "      <td>OIS</td>\n",
       "      <td>0.00335</td>\n",
       "      <td>1.0</td>\n",
       "    </tr>\n",
       "    <tr>\n",
       "      <th>4</th>\n",
       "      <td>4.0</td>\n",
       "      <td>OIS</td>\n",
       "      <td>0.00350</td>\n",
       "      <td>1.0</td>\n",
       "    </tr>\n",
       "    <tr>\n",
       "      <th>5</th>\n",
       "      <td>5.0</td>\n",
       "      <td>OIS</td>\n",
       "      <td>0.00360</td>\n",
       "      <td>1.0</td>\n",
       "    </tr>\n",
       "    <tr>\n",
       "      <th>6</th>\n",
       "      <td>7.0</td>\n",
       "      <td>OIS</td>\n",
       "      <td>0.00400</td>\n",
       "      <td>2.0</td>\n",
       "    </tr>\n",
       "    <tr>\n",
       "      <th>7</th>\n",
       "      <td>10.0</td>\n",
       "      <td>OIS</td>\n",
       "      <td>0.00450</td>\n",
       "      <td>3.0</td>\n",
       "    </tr>\n",
       "    <tr>\n",
       "      <th>8</th>\n",
       "      <td>15.0</td>\n",
       "      <td>OIS</td>\n",
       "      <td>0.00500</td>\n",
       "      <td>5.0</td>\n",
       "    </tr>\n",
       "    <tr>\n",
       "      <th>9</th>\n",
       "      <td>20.0</td>\n",
       "      <td>OIS</td>\n",
       "      <td>0.00525</td>\n",
       "      <td>5.0</td>\n",
       "    </tr>\n",
       "    <tr>\n",
       "      <th>10</th>\n",
       "      <td>30.0</td>\n",
       "      <td>OIS</td>\n",
       "      <td>0.00550</td>\n",
       "      <td>10.0</td>\n",
       "    </tr>\n",
       "  </tbody>\n",
       "</table>\n",
       "</div>"
      ],
      "text/plain": [
       "    Tenor Product     Rate  Tenor_Delta\n",
       "0     0.5     OIS  0.00250          0.5\n",
       "1     1.0     OIS  0.00300          0.5\n",
       "2     2.0     OIS  0.00325          1.0\n",
       "3     3.0     OIS  0.00335          1.0\n",
       "4     4.0     OIS  0.00350          1.0\n",
       "5     5.0     OIS  0.00360          1.0\n",
       "6     7.0     OIS  0.00400          2.0\n",
       "7    10.0     OIS  0.00450          3.0\n",
       "8    15.0     OIS  0.00500          5.0\n",
       "9    20.0     OIS  0.00525          5.0\n",
       "10   30.0     OIS  0.00550         10.0"
      ]
     },
     "execution_count": 2,
     "metadata": {},
     "output_type": "execute_result"
    }
   ],
   "source": [
    "## read OIS excel sheet \n",
    "file_path = os.path.abspath(\"data/IR Data.xlsx\")\n",
    "df_ois = pd.read_excel(file_path, sheet_name=\"OIS\", usecols=[0,1,2])\n",
    "\n",
    "# convert tenor to years \n",
    "tenor_mapping = {\n",
    "    '6m': 0.5,\n",
    "    '1y': 1,\n",
    "    '2y': 2,\n",
    "    '3y': 3,\n",
    "    '4y': 4,\n",
    "    '5y': 5,\n",
    "    '7y': 7,\n",
    "    '10y': 10,\n",
    "    '15y': 15,\n",
    "    '20y': 20,\n",
    "    '30y': 30\n",
    "}\n",
    "\n",
    "df_ois['Tenor'] = df_ois['Tenor'].map(tenor_mapping)\n",
    "df_ois['Tenor_Delta'] = df_ois['Tenor'].diff().fillna(0.5)"
   ]
  },
  {
   "cell_type": "code",
   "execution_count": null,
   "metadata": {},
   "outputs": [
    {
     "data": {
      "application/vnd.microsoft.datawrangler.viewer.v0+json": {
       "columns": [
        {
         "name": "index",
         "rawType": "int64",
         "type": "integer"
        },
        {
         "name": "Tenor",
         "rawType": "object",
         "type": "string"
        },
        {
         "name": "Product",
         "rawType": "object",
         "type": "string"
        },
        {
         "name": "Rate",
         "rawType": "float64",
         "type": "float"
        }
       ],
       "conversionMethod": "pd.DataFrame",
       "ref": "c1b5dd87-d375-4339-b559-c53f63edf93a",
       "rows": [
        [
         "0",
         "6m",
         "LIBOR",
         "0.025"
        ],
        [
         "1",
         "1y",
         "IRS",
         "0.028"
        ],
        [
         "2",
         "2y",
         "IRS",
         "0.03"
        ],
        [
         "3",
         "3y",
         "IRS",
         "0.0315"
        ],
        [
         "4",
         "4y",
         "IRS",
         "0.0325"
        ],
        [
         "5",
         "5y",
         "IRS",
         "0.033"
        ],
        [
         "6",
         "7y",
         "IRS",
         "0.035"
        ],
        [
         "7",
         "10y",
         "IRS",
         "0.037"
        ],
        [
         "8",
         "15y",
         "IRS",
         "0.04"
        ],
        [
         "9",
         "20y",
         "IRS",
         "0.045"
        ],
        [
         "10",
         "30y",
         "IRS",
         "0.05"
        ]
       ],
       "shape": {
        "columns": 3,
        "rows": 11
       }
      },
      "text/html": [
       "<div>\n",
       "<style scoped>\n",
       "    .dataframe tbody tr th:only-of-type {\n",
       "        vertical-align: middle;\n",
       "    }\n",
       "\n",
       "    .dataframe tbody tr th {\n",
       "        vertical-align: top;\n",
       "    }\n",
       "\n",
       "    .dataframe thead th {\n",
       "        text-align: right;\n",
       "    }\n",
       "</style>\n",
       "<table border=\"1\" class=\"dataframe\">\n",
       "  <thead>\n",
       "    <tr style=\"text-align: right;\">\n",
       "      <th></th>\n",
       "      <th>Tenor</th>\n",
       "      <th>Product</th>\n",
       "      <th>Rate</th>\n",
       "    </tr>\n",
       "  </thead>\n",
       "  <tbody>\n",
       "    <tr>\n",
       "      <th>0</th>\n",
       "      <td>6m</td>\n",
       "      <td>LIBOR</td>\n",
       "      <td>0.0250</td>\n",
       "    </tr>\n",
       "    <tr>\n",
       "      <th>1</th>\n",
       "      <td>1y</td>\n",
       "      <td>IRS</td>\n",
       "      <td>0.0280</td>\n",
       "    </tr>\n",
       "    <tr>\n",
       "      <th>2</th>\n",
       "      <td>2y</td>\n",
       "      <td>IRS</td>\n",
       "      <td>0.0300</td>\n",
       "    </tr>\n",
       "    <tr>\n",
       "      <th>3</th>\n",
       "      <td>3y</td>\n",
       "      <td>IRS</td>\n",
       "      <td>0.0315</td>\n",
       "    </tr>\n",
       "    <tr>\n",
       "      <th>4</th>\n",
       "      <td>4y</td>\n",
       "      <td>IRS</td>\n",
       "      <td>0.0325</td>\n",
       "    </tr>\n",
       "    <tr>\n",
       "      <th>5</th>\n",
       "      <td>5y</td>\n",
       "      <td>IRS</td>\n",
       "      <td>0.0330</td>\n",
       "    </tr>\n",
       "    <tr>\n",
       "      <th>6</th>\n",
       "      <td>7y</td>\n",
       "      <td>IRS</td>\n",
       "      <td>0.0350</td>\n",
       "    </tr>\n",
       "    <tr>\n",
       "      <th>7</th>\n",
       "      <td>10y</td>\n",
       "      <td>IRS</td>\n",
       "      <td>0.0370</td>\n",
       "    </tr>\n",
       "    <tr>\n",
       "      <th>8</th>\n",
       "      <td>15y</td>\n",
       "      <td>IRS</td>\n",
       "      <td>0.0400</td>\n",
       "    </tr>\n",
       "    <tr>\n",
       "      <th>9</th>\n",
       "      <td>20y</td>\n",
       "      <td>IRS</td>\n",
       "      <td>0.0450</td>\n",
       "    </tr>\n",
       "    <tr>\n",
       "      <th>10</th>\n",
       "      <td>30y</td>\n",
       "      <td>IRS</td>\n",
       "      <td>0.0500</td>\n",
       "    </tr>\n",
       "  </tbody>\n",
       "</table>\n",
       "</div>"
      ],
      "text/plain": [
       "   Tenor Product    Rate\n",
       "0     6m   LIBOR  0.0250\n",
       "1     1y     IRS  0.0280\n",
       "2     2y     IRS  0.0300\n",
       "3     3y     IRS  0.0315\n",
       "4     4y     IRS  0.0325\n",
       "5     5y     IRS  0.0330\n",
       "6     7y     IRS  0.0350\n",
       "7    10y     IRS  0.0370\n",
       "8    15y     IRS  0.0400\n",
       "9    20y     IRS  0.0450\n",
       "10   30y     IRS  0.0500"
      ]
     },
     "execution_count": 3,
     "metadata": {},
     "output_type": "execute_result"
    }
   ],
   "source": [
    "## read IRS excel sheet \n",
    "irs_df = pd.read_excel(file_path, sheet_name=\"IRS\", usecols=[0,1,2])"
   ]
  },
  {
   "cell_type": "code",
   "execution_count": 4,
   "metadata": {},
   "outputs": [],
   "source": [
    "## read libor discount curve & ois pckl files \n",
    "libor_curve = pickle.load(open(\"data/libor_discount_curve.pkl\", \"rb\"))\n",
    "ois_discount_curve = pickle.load(open(\"data/ois_discount_curve.pkl\", \"rb\"))"
   ]
  },
  {
   "cell_type": "code",
   "execution_count": null,
   "metadata": {},
   "outputs": [
    {
     "data": {
      "application/vnd.microsoft.datawrangler.viewer.v0+json": {
       "columns": [
        {
         "name": "Expiry",
         "rawType": "int64",
         "type": "integer"
        },
        {
         "name": "1",
         "rawType": "float64",
         "type": "float"
        },
        {
         "name": "2",
         "rawType": "float64",
         "type": "float"
        },
        {
         "name": "3",
         "rawType": "float64",
         "type": "float"
        },
        {
         "name": "5",
         "rawType": "float64",
         "type": "float"
        },
        {
         "name": "10",
         "rawType": "float64",
         "type": "float"
        }
       ],
       "conversionMethod": "pd.DataFrame",
       "ref": "33574411-47bc-40ed-ac41-2572e19f4d2b",
       "rows": [
        [
         "1",
         "0.03200699912030186",
         "0.03325922574960193",
         "0.03401072632470444",
         "0.03525547145563573",
         "0.03842796420787846"
        ],
        [
         "5",
         "0.03927403658065087",
         "0.0400748606905053",
         "0.04007224625039867",
         "0.04109322872564417",
         "0.04363364552747547"
        ],
        [
         "10",
         "0.04218923717521995",
         "0.04311573643961272",
         "0.04409712502632226",
         "0.04624901925164898",
         "0.05345752916489249"
        ]
       ],
       "shape": {
        "columns": 5,
        "rows": 3
       }
      },
      "text/html": [
       "<div>\n",
       "<style scoped>\n",
       "    .dataframe tbody tr th:only-of-type {\n",
       "        vertical-align: middle;\n",
       "    }\n",
       "\n",
       "    .dataframe tbody tr th {\n",
       "        vertical-align: top;\n",
       "    }\n",
       "\n",
       "    .dataframe thead th {\n",
       "        text-align: right;\n",
       "    }\n",
       "</style>\n",
       "<table border=\"1\" class=\"dataframe\">\n",
       "  <thead>\n",
       "    <tr style=\"text-align: right;\">\n",
       "      <th>Tenor</th>\n",
       "      <th>1</th>\n",
       "      <th>2</th>\n",
       "      <th>3</th>\n",
       "      <th>5</th>\n",
       "      <th>10</th>\n",
       "    </tr>\n",
       "    <tr>\n",
       "      <th>Expiry</th>\n",
       "      <th></th>\n",
       "      <th></th>\n",
       "      <th></th>\n",
       "      <th></th>\n",
       "      <th></th>\n",
       "    </tr>\n",
       "  </thead>\n",
       "  <tbody>\n",
       "    <tr>\n",
       "      <th>1</th>\n",
       "      <td>0.032007</td>\n",
       "      <td>0.033259</td>\n",
       "      <td>0.034011</td>\n",
       "      <td>0.035255</td>\n",
       "      <td>0.038428</td>\n",
       "    </tr>\n",
       "    <tr>\n",
       "      <th>5</th>\n",
       "      <td>0.039274</td>\n",
       "      <td>0.040075</td>\n",
       "      <td>0.040072</td>\n",
       "      <td>0.041093</td>\n",
       "      <td>0.043634</td>\n",
       "    </tr>\n",
       "    <tr>\n",
       "      <th>10</th>\n",
       "      <td>0.042189</td>\n",
       "      <td>0.043116</td>\n",
       "      <td>0.044097</td>\n",
       "      <td>0.046249</td>\n",
       "      <td>0.053458</td>\n",
       "    </tr>\n",
       "  </tbody>\n",
       "</table>\n",
       "</div>"
      ],
      "text/plain": [
       "Tenor          1         2         3         5        10\n",
       "Expiry                                                  \n",
       "1       0.032007  0.033259  0.034011  0.035255  0.038428\n",
       "5       0.039274  0.040075  0.040072  0.041093  0.043634\n",
       "10      0.042189  0.043116  0.044097  0.046249  0.053458"
      ]
     },
     "execution_count": 5,
     "metadata": {},
     "output_type": "execute_result"
    }
   ],
   "source": [
    "## read forward swap rates \n",
    "file_path_swap = os.path.abspath(\"data/swap_rates.xlsx\")\n",
    "forward_swap_rates = pd.read_excel(file_path_swap)\n",
    "forward_swap_rates.rename(columns={'Unnamed: 0':'Expiry'}, inplace=True)\n",
    "forward_swap_rates = forward_swap_rates.set_index('Expiry')\n",
    "forward_swap_rates.columns.name = 'Tenor'"
   ]
  },
  {
   "cell_type": "code",
   "execution_count": null,
   "metadata": {},
   "outputs": [
    {
     "data": {
      "application/vnd.microsoft.datawrangler.viewer.v0+json": {
       "columns": [
        {
         "name": "Tenor",
         "rawType": "float64",
         "type": "float"
        },
        {
         "name": "OIS_Discount_Factor",
         "rawType": "float64",
         "type": "float"
        },
        {
         "name": "Forward_Libor_Rates",
         "rawType": "float64",
         "type": "float"
        }
       ],
       "conversionMethod": "pd.DataFrame",
       "ref": "f14cd98c-c387-45d1-92a3-3ca17ded8c4e",
       "rows": [
        [
         "0.5",
         "0.9987515605493134",
         "0.9876543209876544"
        ],
        [
         "1.0",
         "0.9970089730807579",
         "0.972576830290438"
        ],
        [
         "1.5",
         "0.9952698594970136",
         "0.9573779178547315"
        ],
        [
         "2.0",
         "0.9935307459132694",
         "0.9421790054190251"
        ],
        [
         "2.5",
         "0.9917729435657792",
         "0.9263302686643778"
        ]
       ],
       "shape": {
        "columns": 2,
        "rows": 5
       }
      },
      "text/html": [
       "<div>\n",
       "<style scoped>\n",
       "    .dataframe tbody tr th:only-of-type {\n",
       "        vertical-align: middle;\n",
       "    }\n",
       "\n",
       "    .dataframe tbody tr th {\n",
       "        vertical-align: top;\n",
       "    }\n",
       "\n",
       "    .dataframe thead th {\n",
       "        text-align: right;\n",
       "    }\n",
       "</style>\n",
       "<table border=\"1\" class=\"dataframe\">\n",
       "  <thead>\n",
       "    <tr style=\"text-align: right;\">\n",
       "      <th></th>\n",
       "      <th>OIS_Discount_Factor</th>\n",
       "      <th>Forward_Libor_Rates</th>\n",
       "    </tr>\n",
       "    <tr>\n",
       "      <th>Tenor</th>\n",
       "      <th></th>\n",
       "      <th></th>\n",
       "    </tr>\n",
       "  </thead>\n",
       "  <tbody>\n",
       "    <tr>\n",
       "      <th>0.5</th>\n",
       "      <td>0.998752</td>\n",
       "      <td>0.987654</td>\n",
       "    </tr>\n",
       "    <tr>\n",
       "      <th>1.0</th>\n",
       "      <td>0.997009</td>\n",
       "      <td>0.972577</td>\n",
       "    </tr>\n",
       "    <tr>\n",
       "      <th>1.5</th>\n",
       "      <td>0.995270</td>\n",
       "      <td>0.957378</td>\n",
       "    </tr>\n",
       "    <tr>\n",
       "      <th>2.0</th>\n",
       "      <td>0.993531</td>\n",
       "      <td>0.942179</td>\n",
       "    </tr>\n",
       "    <tr>\n",
       "      <th>2.5</th>\n",
       "      <td>0.991773</td>\n",
       "      <td>0.926330</td>\n",
       "    </tr>\n",
       "  </tbody>\n",
       "</table>\n",
       "</div>"
      ],
      "text/plain": [
       "       OIS_Discount_Factor  Forward_Libor_Rates\n",
       "Tenor                                          \n",
       "0.5               0.998752             0.987654\n",
       "1.0               0.997009             0.972577\n",
       "1.5               0.995270             0.957378\n",
       "2.0               0.993531             0.942179\n",
       "2.5               0.991773             0.926330"
      ]
     },
     "execution_count": 6,
     "metadata": {},
     "output_type": "execute_result"
    }
   ],
   "source": [
    "r = np.arange(0.5, 20.5, 0.5)\n",
    "interpolated_libors = libor_curve(r)\n",
    "interpolated_ois = ois_discount_curve(r)\n",
    "interpolated_ois_df = pd.DataFrame({\n",
    "    'Tenor': r,\n",
    "    'OIS_Discount_Factor': interpolated_ois,\n",
    "    'Forward_Libor_Rates': interpolated_libors\n",
    "    })\n",
    "\n",
    "interpolated_ois_df = interpolated_ois_df.set_index('Tenor')"
   ]
  },
  {
   "cell_type": "code",
   "execution_count": 7,
   "metadata": {},
   "outputs": [],
   "source": [
    "## daily compounded overnight rate \n",
    "def calc_compounded_on_rate(f_t, delta_T):\n",
    "    \"\"\"\n",
    "    calculate the daily compounded return based on the overnight rate\n",
    "\n",
    "    Args:\n",
    "    f_t(float): overnight rate\n",
    "    T(float): tenor\n",
    "\n",
    "    Returns:\n",
    "    compounded overnight rate\n",
    "    \"\"\"\n",
    "    return 1 / ((1 + f_t/360) ** (360 * delta_T))\n",
    "\n",
    "## discount factor \n",
    "def calc_discount_factor(prev_df, f_t, delta_T):\n",
    "    \"\"\"\n",
    "    calculate the discount factor for a given tenor\n",
    "\n",
    "    Args:\n",
    "    prev_df(float): previous discount factor\n",
    "    f_t(float): overnight rate\n",
    "    delta_T(float): time difference\n",
    "\n",
    "    Returns:\n",
    "    discount factor\n",
    "    \"\"\"\n",
    "    return prev_df * calc_compounded_on_rate(f_t, delta_T)\n",
    "\n",
    "## forward libor rate \n",
    "def calc_forward_libor(prev_df, current_df, delta_T):\n",
    "    \"\"\"\n",
    "    calculate the forward libor rate for a given tenor\n",
    "\n",
    "    Args:\n",
    "    prev_df(float): previous discount factor\n",
    "    current_df(float): current discount factor\n",
    "    delta_T(float): time difference\n",
    "\n",
    "    Returns:\n",
    "    forward libor rate\n",
    "    \"\"\"\n",
    "    return (1/delta_T) *(prev_df/current_df - 1)"
   ]
  },
  {
   "cell_type": "code",
   "execution_count": 8,
   "metadata": {},
   "outputs": [],
   "source": [
    "## black 76 model \n",
    "class black_76_model:\n",
    "    def __init__(self, F: float, K: float, sigma: float, discount_factor: float, T: float):\n",
    "        self.F = F\n",
    "        self.K = K\n",
    "        self.sigma = sigma\n",
    "        self.discount_factor = discount_factor\n",
    "        self.T = T\n",
    "        self.d1 = self.calc_black_scholes_d1()\n",
    "        self.d2 = self.calc_black_scholes_d2()\n",
    "\n",
    "    def calc_black_scholes_d1(self) -> float:\n",
    "        sigma_sqrt_time = self.sigma * np.sqrt(self.T)\n",
    "        return (np.log(self.F / self.K) + (np.power(self.sigma, 2)/2) * self.T ) / sigma_sqrt_time\n",
    "    \n",
    "    def calc_black_scholes_d2(self) -> float:\n",
    "        sigma_sqrt_time = self.sigma * np.sqrt(self.T)\n",
    "        return self.d1 - sigma_sqrt_time\n",
    "    \n",
    "    def blackscholes_call(self):\n",
    "        return self.discount_factor*(self.F*norm.cdf(self.d1) - self.K*norm.cdf(self.d2))\n",
    "\n",
    "    def blackscholes_put(self):\n",
    "        return self.discount_factor*(self.F*norm.cdf(-self.d1) + self.K*norm.cdf(-self.d2))"
   ]
  },
  {
   "cell_type": "code",
   "execution_count": 9,
   "metadata": {},
   "outputs": [],
   "source": [
    "## SABR model\n",
    "def SABR(F, K, T, alpha, beta, rho, nu):\n",
    "    X = K\n",
    "    # if K is at-the-money-forward\n",
    "    if abs(F - K) < 1e-12:\n",
    "        numer1 = (((1 - beta)**2)/24)*alpha*alpha/(F**(2 - 2*beta))\n",
    "        numer2 = 0.25*rho*beta*nu*alpha/(F**(1 - beta))\n",
    "        numer3 = ((2 - 3*rho*rho)/24)*nu*nu\n",
    "        VolAtm = alpha*(1 + (numer1 + numer2 + numer3)*T)/(F**(1-beta))\n",
    "        sabrsigma = VolAtm\n",
    "    else:\n",
    "        z = (nu/alpha)*((F*X)**(0.5*(1-beta)))*np.log(F/X)\n",
    "        zhi = np.log((((1 - 2*rho*z + z*z)**0.5) + z - rho)/(1 - rho))\n",
    "        numer1 = (((1 - beta)**2)/24)*((alpha*alpha)/((F*X)**(1 - beta)))\n",
    "        numer2 = 0.25*rho*beta*nu*alpha/((F*X)**((1 - beta)/2))\n",
    "        numer3 = ((2 - 3*rho*rho)/24)*nu*nu\n",
    "        numer = alpha*(1 + (numer1 + numer2 + numer3)*T)*z\n",
    "        denom1 = ((1 - beta)**2/24)*(np.log(F/X))**2\n",
    "        denom2 = (((1 - beta)**4)/1920)*((np.log(F/X))**4)\n",
    "        denom = ((F*X)**((1 - beta)/2))*(1 + denom1 + denom2)*zhi\n",
    "        sabrsigma = numer/denom\n",
    "\n",
    "    return sabrsigma     "
   ]
  },
  {
   "cell_type": "code",
   "execution_count": 10,
   "metadata": {},
   "outputs": [
    {
     "name": "stdout",
     "output_type": "stream",
     "text": [
      "=============== df_sabr_alpha ====================\n",
      "Tenors        1Y        2Y        3Y        5Y       10Y\n",
      "Expiry                                                  \n",
      "1Y      0.139104  0.184643  0.196771  0.177927  0.172890\n",
      "5Y      0.166455  0.198386  0.199951  0.188062  0.171354\n",
      "10Y     0.178394  0.193247  0.196821  0.192991  0.178947\n",
      "=============== df_sabr_rho =============== \n",
      "Tenors        1Y        2Y        3Y        5Y       10Y\n",
      "Expiry                                                  \n",
      "1Y     -0.633006 -0.525086 -0.482617 -0.413643 -0.309788\n",
      "5Y     -0.585134 -0.543885 -0.517960 -0.495742 -0.397162\n",
      "10Y    -0.548809 -0.540522 -0.527671 -0.540684 -0.512736\n",
      "===============df_sabr_nu =============== \n",
      "Tenors        1Y        2Y        3Y        5Y       10Y\n",
      "Expiry                                                  \n",
      "1Y      2.048783  1.677390  1.438554  1.066044  0.760416\n",
      "5Y      1.339865  1.062308  0.946712  0.683542  0.543337\n",
      "10Y     1.010698  0.924579  0.860870  0.723664  0.601515\n"
     ]
    }
   ],
   "source": [
    "## read sabr params data and pre-process\n",
    "file_path_sabr = os.path.abspath(\"data/sabr_calibrated.xlsx\")\n",
    "df_sabr_alpha = pd.read_excel(file_path_sabr, sheet_name=\"sabr_alpha\")\n",
    "df_sabr_rho = pd.read_excel(file_path_sabr, sheet_name=\"sabr_rho\")\n",
    "df_sabr_nu = pd.read_excel(file_path_sabr, sheet_name=\"sabr_nu\")\n",
    "\n",
    "def prep_sabr_params(df):\n",
    "    df = df.rename(columns = {'Unnamed: 0': 'Expiry'})\n",
    "    df.set_index('Expiry', inplace=True)\n",
    "    df.columns.name = 'Tenors'\n",
    "    return df\n",
    "\n",
    "df_sabr_alpha = prep_sabr_params(df_sabr_alpha)\n",
    "df_sabr_rho = prep_sabr_params(df_sabr_rho)\n",
    "df_sabr_nu = prep_sabr_params(df_sabr_nu)\n",
    "\n",
    "print(\"=============== df_sabr_alpha ====================\")\n",
    "print(df_sabr_alpha)\n",
    "print(\"=============== df_sabr_rho =============== \")\n",
    "print(df_sabr_rho)\n",
    "print(\"===============df_sabr_nu =============== \")\n",
    "print(df_sabr_nu)"
   ]
  },
  {
   "cell_type": "code",
   "execution_count": null,
   "metadata": {},
   "outputs": [
    {
     "data": {
      "application/vnd.microsoft.datawrangler.viewer.v0+json": {
       "columns": [
        {
         "name": "index",
         "rawType": "float64",
         "type": "float"
        },
        {
         "name": "1Y",
         "rawType": "float64",
         "type": "float"
        },
        {
         "name": "2Y",
         "rawType": "float64",
         "type": "float"
        },
        {
         "name": "3Y",
         "rawType": "float64",
         "type": "float"
        },
        {
         "name": "5Y",
         "rawType": "float64",
         "type": "float"
        },
        {
         "name": "10Y",
         "rawType": "float64",
         "type": "float"
        }
       ],
       "conversionMethod": "pd.DataFrame",
       "ref": "dc4f11a2-8c16-4cb7-b4dc-b2e0ea492e64",
       "rows": [
        [
         "0.25",
         "0.13397527588977054",
         "0.18206561248171005",
         "0.19617511539424168",
         "0.17602702746698373",
         "0.17317814526140887"
        ],
        [
         "0.5",
         "0.13568470988804565",
         "0.18292459474119988",
         "0.19637384040331768",
         "0.17666046514090836",
         "0.17308216391430425"
        ],
        [
         "0.75",
         "0.13739414388632076",
         "0.18378357700068967",
         "0.1965725654123937",
         "0.17729390281483298",
         "0.1729861825671996"
        ],
        [
         "1.0",
         "0.1391035778845959",
         "0.1846425592601795",
         "0.1967712904214697",
         "0.1779273404887576",
         "0.172890201220095"
        ],
        [
         "1.25",
         "0.14081301188287104",
         "0.18550154151966933",
         "0.1969700154305457",
         "0.17856077816268223",
         "0.17279421987299037"
        ]
       ],
       "shape": {
        "columns": 5,
        "rows": 5
       }
      },
      "text/html": [
       "<div>\n",
       "<style scoped>\n",
       "    .dataframe tbody tr th:only-of-type {\n",
       "        vertical-align: middle;\n",
       "    }\n",
       "\n",
       "    .dataframe tbody tr th {\n",
       "        vertical-align: top;\n",
       "    }\n",
       "\n",
       "    .dataframe thead th {\n",
       "        text-align: right;\n",
       "    }\n",
       "</style>\n",
       "<table border=\"1\" class=\"dataframe\">\n",
       "  <thead>\n",
       "    <tr style=\"text-align: right;\">\n",
       "      <th></th>\n",
       "      <th>1Y</th>\n",
       "      <th>2Y</th>\n",
       "      <th>3Y</th>\n",
       "      <th>5Y</th>\n",
       "      <th>10Y</th>\n",
       "    </tr>\n",
       "  </thead>\n",
       "  <tbody>\n",
       "    <tr>\n",
       "      <th>0.25</th>\n",
       "      <td>0.133975</td>\n",
       "      <td>0.182066</td>\n",
       "      <td>0.196175</td>\n",
       "      <td>0.176027</td>\n",
       "      <td>0.173178</td>\n",
       "    </tr>\n",
       "    <tr>\n",
       "      <th>0.50</th>\n",
       "      <td>0.135685</td>\n",
       "      <td>0.182925</td>\n",
       "      <td>0.196374</td>\n",
       "      <td>0.176660</td>\n",
       "      <td>0.173082</td>\n",
       "    </tr>\n",
       "    <tr>\n",
       "      <th>0.75</th>\n",
       "      <td>0.137394</td>\n",
       "      <td>0.183784</td>\n",
       "      <td>0.196573</td>\n",
       "      <td>0.177294</td>\n",
       "      <td>0.172986</td>\n",
       "    </tr>\n",
       "    <tr>\n",
       "      <th>1.00</th>\n",
       "      <td>0.139104</td>\n",
       "      <td>0.184643</td>\n",
       "      <td>0.196771</td>\n",
       "      <td>0.177927</td>\n",
       "      <td>0.172890</td>\n",
       "    </tr>\n",
       "    <tr>\n",
       "      <th>1.25</th>\n",
       "      <td>0.140813</td>\n",
       "      <td>0.185502</td>\n",
       "      <td>0.196970</td>\n",
       "      <td>0.178561</td>\n",
       "      <td>0.172794</td>\n",
       "    </tr>\n",
       "  </tbody>\n",
       "</table>\n",
       "</div>"
      ],
      "text/plain": [
       "            1Y        2Y        3Y        5Y       10Y\n",
       "0.25  0.133975  0.182066  0.196175  0.176027  0.173178\n",
       "0.50  0.135685  0.182925  0.196374  0.176660  0.173082\n",
       "0.75  0.137394  0.183784  0.196573  0.177294  0.172986\n",
       "1.00  0.139104  0.184643  0.196771  0.177927  0.172890\n",
       "1.25  0.140813  0.185502  0.196970  0.178561  0.172794"
      ]
     },
     "execution_count": 11,
     "metadata": {},
     "output_type": "execute_result"
    }
   ],
   "source": [
    "## interpolation of sabr params \n",
    "expiry_range = np.arange(0.25, 10.25, 0.25) # quarterly expiry range\n",
    "\n",
    "def sabr_params_interp(df):\n",
    "    interpolated_values = {}\n",
    "\n",
    "    for tenor in df.columns:\n",
    "        interp = interpolate.interp1d(\n",
    "            df.index.str.replace('Y', '').astype(float), \n",
    "            df[tenor].astype(float),\n",
    "            kind='linear', \n",
    "            fill_value='extrapolate'\n",
    "            )\n",
    "    \n",
    "        interpolated_values[tenor] = interp(expiry_range)\n",
    "    return pd.DataFrame(interpolated_values, index=expiry_range)\n",
    "\n",
    "\n",
    "df_sabr_alpha_interp = sabr_params_interp(df_sabr_alpha)\n",
    "df_sabr_rho_interp = sabr_params_interp(df_sabr_rho)\n",
    "df_sabr_nu_interp = sabr_params_interp(df_sabr_nu)"
   ]
  },
  {
   "cell_type": "code",
   "execution_count": 12,
   "metadata": {},
   "outputs": [],
   "source": [
    "## CMS rates calculation\n",
    "def IRR_0(K, m, N):\n",
    "    \"\"\"\n",
    "    Implementation of IRR(K) function \n",
    "\n",
    "    Args:\n",
    "    K(float): strike rate\n",
    "    m(float): tenor\n",
    "    N(float): number of periods\n",
    "    \"\"\"\n",
    "    value = 1/K * ( 1.0 - 1/(1 + K/m)**(N*m) )\n",
    "    return value\n",
    "\n",
    "def IRR_1(K, m, N):\n",
    "    \"\"\"\n",
    "    Implementation of IRR'(K) function (1st derivative)\n",
    "    \"\"\"\n",
    "    firstDerivative = -1/K*IRR_0(K, m, N) + 1/(K*m)*N*m/(1+K/m)**(N*m+1)\n",
    "    return firstDerivative\n",
    "\n",
    "def IRR_2(K, m, N):\n",
    "    \"\"\" \n",
    "    Implementation of IRR''(K) function (2nd derivative)\n",
    "    \"\"\"\n",
    "    secondDerivative = -2/K*IRR_1(K, m, N) - 1/(K*m*m)*(N*m)*(N*m+1)/(1+K/m)**(N*m+2)\n",
    "    return secondDerivative\n",
    "\n",
    "\n",
    "def g_0(K):\n",
    "    \"\"\" \n",
    "    Implementation of g(K) function\n",
    "    \"\"\"\n",
    "    return K\n",
    "\n",
    "def g_1(K):\n",
    "    \"\"\"\n",
    "    Implementation of g'(K) function (1st derivative)\n",
    "    \"\"\"\n",
    "    return 1.0\n",
    "\n",
    "def g_2(K):\n",
    "    \"\"\"\n",
    "    Implementation of g''(K) function (2nd derivative)\n",
    "    \"\"\"\n",
    "    return 0.0\n",
    "\n",
    "def h_0(K, m, N):\n",
    "    \"\"\" \n",
    "    Implementation of h(K) function\n",
    "    \"\"\"\n",
    "    value = g_0(K) / IRR_0(K, m, N)\n",
    "    return value\n",
    "\n",
    "def h_1(K, m, N):\n",
    "    \"\"\" \n",
    "    Implementation of h'(K) function (1st derivative)\n",
    "    \"\"\"\n",
    "    firstDerivative = (IRR_0(K, m, N)*g_1(K) - g_0(K)*IRR_1(K, m, N)) / IRR_0(K, m, N)**2\n",
    "    return firstDerivative\n",
    "\n",
    "def h_2(K, m, N):\n",
    "    \"\"\" \n",
    "    Implementation of h''(K) function (2nd derivative)\n",
    "    \"\"\"\n",
    "    secondDerivative = ((IRR_0(K, m, N)*g_2(K) - IRR_2(K, m, N)*g_0(K) - 2.0*IRR_1(K, m, N)*g_1(K))/IRR_0(K, m, N)**2 \n",
    "                        + 2.0*IRR_1(K, m, N)**2*g_0(K)/IRR_0(K, m, N)**3)\n",
    "    return secondDerivative"
   ]
  },
  {
   "cell_type": "code",
   "execution_count": 13,
   "metadata": {},
   "outputs": [],
   "source": [
    "## IRR settled option price \n",
    "def irr_settled_option_price(F, discount_factor, K, sigma, T, m, N, swap_type):\n",
    "    \"\"\"\n",
    "    Calculate the price of an IRR-settled swaption using the Black-76 model\n",
    "\n",
    "    Parameters:\n",
    "        F (float): forward swap rate\n",
    "        discount_factor (float): discount factor\n",
    "        K (float): strike\n",
    "        sigma (float): volatility\n",
    "        T (float): time to expiry\n",
    "        m (int): number of payments per year\n",
    "        N (int): Tenor\n",
    "        swap_type (str): Type of swap (Payer or Receiver).\n",
    "\n",
    "    Returns:\n",
    "        float: Option price.\n",
    "    \"\"\"\n",
    "    irr_0 = IRR_0(F, m, N)\n",
    "    df_numeraire = 1  # discount factor D(t,T) = 1\n",
    "    black76_model = black_76_model(F, K, sigma, df_numeraire, T)\n",
    "    if swap_type == 'payer':\n",
    "        option_price = black76_model.blackscholes_call()\n",
    "    elif swap_type == 'receiver':\n",
    "        option_price = black76_model.blackscholes_put()\n",
    "    else: \n",
    "        raise NameError(\"Invalid swap type.\")\n",
    "    return discount_factor * irr_0 * option_price"
   ]
  },
  {
   "cell_type": "code",
   "execution_count": null,
   "metadata": {},
   "outputs": [
    {
     "data": {
      "application/vnd.microsoft.datawrangler.viewer.v0+json": {
       "columns": [
        {
         "name": "index",
         "rawType": "int64",
         "type": "integer"
        },
        {
         "name": "1",
         "rawType": "float64",
         "type": "float"
        },
        {
         "name": "2",
         "rawType": "float64",
         "type": "float"
        },
        {
         "name": "3",
         "rawType": "float64",
         "type": "float"
        },
        {
         "name": "5",
         "rawType": "float64",
         "type": "float"
        },
        {
         "name": "10",
         "rawType": "float64",
         "type": "float"
        }
       ],
       "conversionMethod": "pd.DataFrame",
       "ref": "0e0537e7-db0d-4c35-9c13-83db0beff266",
       "rows": [
        [
         "1",
         "0.0",
         "0.0",
         "0.0",
         "0.0",
         "0.0"
        ],
        [
         "5",
         "0.0",
         "0.0",
         "0.0",
         "0.0",
         "0.0"
        ],
        [
         "10",
         "0.0",
         "0.0",
         "0.0",
         "0.0",
         "0.0"
        ]
       ],
       "shape": {
        "columns": 5,
        "rows": 3
       }
      },
      "text/html": [
       "<div>\n",
       "<style scoped>\n",
       "    .dataframe tbody tr th:only-of-type {\n",
       "        vertical-align: middle;\n",
       "    }\n",
       "\n",
       "    .dataframe tbody tr th {\n",
       "        vertical-align: top;\n",
       "    }\n",
       "\n",
       "    .dataframe thead th {\n",
       "        text-align: right;\n",
       "    }\n",
       "</style>\n",
       "<table border=\"1\" class=\"dataframe\">\n",
       "  <thead>\n",
       "    <tr style=\"text-align: right;\">\n",
       "      <th></th>\n",
       "      <th>1</th>\n",
       "      <th>2</th>\n",
       "      <th>3</th>\n",
       "      <th>5</th>\n",
       "      <th>10</th>\n",
       "    </tr>\n",
       "  </thead>\n",
       "  <tbody>\n",
       "    <tr>\n",
       "      <th>1</th>\n",
       "      <td>0.0</td>\n",
       "      <td>0.0</td>\n",
       "      <td>0.0</td>\n",
       "      <td>0.0</td>\n",
       "      <td>0.0</td>\n",
       "    </tr>\n",
       "    <tr>\n",
       "      <th>5</th>\n",
       "      <td>0.0</td>\n",
       "      <td>0.0</td>\n",
       "      <td>0.0</td>\n",
       "      <td>0.0</td>\n",
       "      <td>0.0</td>\n",
       "    </tr>\n",
       "    <tr>\n",
       "      <th>10</th>\n",
       "      <td>0.0</td>\n",
       "      <td>0.0</td>\n",
       "      <td>0.0</td>\n",
       "      <td>0.0</td>\n",
       "      <td>0.0</td>\n",
       "    </tr>\n",
       "  </tbody>\n",
       "</table>\n",
       "</div>"
      ],
      "text/plain": [
       "     1    2    3    5    10\n",
       "1   0.0  0.0  0.0  0.0  0.0\n",
       "5   0.0  0.0  0.0  0.0  0.0\n",
       "10  0.0  0.0  0.0  0.0  0.0"
      ]
     },
     "execution_count": 14,
     "metadata": {},
     "output_type": "execute_result"
    }
   ],
   "source": [
    "Expiry = [1, 5, 10]\n",
    "Tenors = [1, 2, 3, 5, 10]\n",
    "cms_rate = pd.DataFrame(np.zeros((len(Expiry), len(Tenors))), index=Expiry, columns=Tenors)"
   ]
  },
  {
   "cell_type": "code",
   "execution_count": null,
   "metadata": {},
   "outputs": [
    {
     "data": {
      "application/vnd.microsoft.datawrangler.viewer.v0+json": {
       "columns": [
        {
         "name": "index",
         "rawType": "float64",
         "type": "float"
        },
        {
         "name": "1",
         "rawType": "float64",
         "type": "float"
        },
        {
         "name": "2",
         "rawType": "float64",
         "type": "float"
        },
        {
         "name": "3",
         "rawType": "float64",
         "type": "float"
        },
        {
         "name": "5",
         "rawType": "float64",
         "type": "float"
        },
        {
         "name": "10",
         "rawType": "float64",
         "type": "float"
        }
       ],
       "conversionMethod": "pd.DataFrame",
       "ref": "19e3e997-5a24-4c5c-a0da-ee02ae125314",
       "rows": [
        [
         "0.25",
         "0.03064442959648642",
         "0.03198129419818255",
         "0.032874191338636775",
         "0.03416089196750914",
         "0.03745189896045402"
        ],
        [
         "0.5",
         "0.031098619437758233",
         "0.03240727138198901",
         "0.03325303633399267",
         "0.03452575179688467",
         "0.03777725404292883"
        ],
        [
         "0.75",
         "0.03155280927903005",
         "0.032833248565795475",
         "0.03363188132934855",
         "0.0348906116262602",
         "0.03810260912540365"
        ],
        [
         "1.0",
         "0.03200699912030186",
         "0.03325922574960193",
         "0.03401072632470444",
         "0.03525547145563573",
         "0.03842796420787846"
        ],
        [
         "1.25",
         "0.03246118896157367",
         "0.03368520293340839",
         "0.03438957132006033",
         "0.035620331285011256",
         "0.03875331929035327"
        ]
       ],
       "shape": {
        "columns": 5,
        "rows": 5
       }
      },
      "text/html": [
       "<div>\n",
       "<style scoped>\n",
       "    .dataframe tbody tr th:only-of-type {\n",
       "        vertical-align: middle;\n",
       "    }\n",
       "\n",
       "    .dataframe tbody tr th {\n",
       "        vertical-align: top;\n",
       "    }\n",
       "\n",
       "    .dataframe thead th {\n",
       "        text-align: right;\n",
       "    }\n",
       "</style>\n",
       "<table border=\"1\" class=\"dataframe\">\n",
       "  <thead>\n",
       "    <tr style=\"text-align: right;\">\n",
       "      <th></th>\n",
       "      <th>1</th>\n",
       "      <th>2</th>\n",
       "      <th>3</th>\n",
       "      <th>5</th>\n",
       "      <th>10</th>\n",
       "    </tr>\n",
       "  </thead>\n",
       "  <tbody>\n",
       "    <tr>\n",
       "      <th>0.25</th>\n",
       "      <td>0.030644</td>\n",
       "      <td>0.031981</td>\n",
       "      <td>0.032874</td>\n",
       "      <td>0.034161</td>\n",
       "      <td>0.037452</td>\n",
       "    </tr>\n",
       "    <tr>\n",
       "      <th>0.50</th>\n",
       "      <td>0.031099</td>\n",
       "      <td>0.032407</td>\n",
       "      <td>0.033253</td>\n",
       "      <td>0.034526</td>\n",
       "      <td>0.037777</td>\n",
       "    </tr>\n",
       "    <tr>\n",
       "      <th>0.75</th>\n",
       "      <td>0.031553</td>\n",
       "      <td>0.032833</td>\n",
       "      <td>0.033632</td>\n",
       "      <td>0.034891</td>\n",
       "      <td>0.038103</td>\n",
       "    </tr>\n",
       "    <tr>\n",
       "      <th>1.00</th>\n",
       "      <td>0.032007</td>\n",
       "      <td>0.033259</td>\n",
       "      <td>0.034011</td>\n",
       "      <td>0.035255</td>\n",
       "      <td>0.038428</td>\n",
       "    </tr>\n",
       "    <tr>\n",
       "      <th>1.25</th>\n",
       "      <td>0.032461</td>\n",
       "      <td>0.033685</td>\n",
       "      <td>0.034390</td>\n",
       "      <td>0.035620</td>\n",
       "      <td>0.038753</td>\n",
       "    </tr>\n",
       "  </tbody>\n",
       "</table>\n",
       "</div>"
      ],
      "text/plain": [
       "            1         2         3         5         10\n",
       "0.25  0.030644  0.031981  0.032874  0.034161  0.037452\n",
       "0.50  0.031099  0.032407  0.033253  0.034526  0.037777\n",
       "0.75  0.031553  0.032833  0.033632  0.034891  0.038103\n",
       "1.00  0.032007  0.033259  0.034011  0.035255  0.038428\n",
       "1.25  0.032461  0.033685  0.034390  0.035620  0.038753"
      ]
     },
     "execution_count": 15,
     "metadata": {},
     "output_type": "execute_result"
    }
   ],
   "source": [
    "## interpolation of forward swap rates\n",
    "expiry_range = np.arange(0.25, 10.25, 0.25) # quarterly expiry range\n",
    "\n",
    "def interploate_df(df):\n",
    "    interpolated_values = {}\n",
    "\n",
    "    for tenor in df.columns:\n",
    "        interp = interpolate.interp1d(\n",
    "            df.index,\n",
    "            df[tenor].astype(float),\n",
    "            kind='linear', \n",
    "            fill_value='extrapolate'\n",
    "            )\n",
    "    \n",
    "        interpolated_values[tenor] = interp(expiry_range)\n",
    "    return pd.DataFrame(interpolated_values, index=expiry_range)\n",
    "\n",
    "forward_swap_df_interp = interploate_df(forward_swap_rates)"
   ]
  },
  {
   "cell_type": "code",
   "execution_count": null,
   "metadata": {},
   "outputs": [
    {
     "data": {
      "application/vnd.microsoft.datawrangler.viewer.v0+json": {
       "columns": [
        {
         "name": "index",
         "rawType": "float64",
         "type": "float"
        },
        {
         "name": "T",
         "rawType": "float64",
         "type": "float"
        }
       ],
       "conversionMethod": "pd.DataFrame",
       "ref": "6df17251-94db-4562-aebc-12cac26c19d1",
       "rows": [
        [
         "0.25",
         "0.9996228542835911"
        ],
        [
         "0.5",
         "0.9987515605493134"
        ],
        [
         "0.75",
         "0.9978802668150356"
        ],
        [
         "1.0",
         "0.9970089730807579"
        ],
        [
         "1.25",
         "0.9961394162888857"
        ]
       ],
       "shape": {
        "columns": 1,
        "rows": 5
       }
      },
      "text/html": [
       "<div>\n",
       "<style scoped>\n",
       "    .dataframe tbody tr th:only-of-type {\n",
       "        vertical-align: middle;\n",
       "    }\n",
       "\n",
       "    .dataframe tbody tr th {\n",
       "        vertical-align: top;\n",
       "    }\n",
       "\n",
       "    .dataframe thead th {\n",
       "        text-align: right;\n",
       "    }\n",
       "</style>\n",
       "<table border=\"1\" class=\"dataframe\">\n",
       "  <thead>\n",
       "    <tr style=\"text-align: right;\">\n",
       "      <th></th>\n",
       "      <th>T</th>\n",
       "    </tr>\n",
       "  </thead>\n",
       "  <tbody>\n",
       "    <tr>\n",
       "      <th>0.25</th>\n",
       "      <td>0.999623</td>\n",
       "    </tr>\n",
       "    <tr>\n",
       "      <th>0.50</th>\n",
       "      <td>0.998752</td>\n",
       "    </tr>\n",
       "    <tr>\n",
       "      <th>0.75</th>\n",
       "      <td>0.997880</td>\n",
       "    </tr>\n",
       "    <tr>\n",
       "      <th>1.00</th>\n",
       "      <td>0.997009</td>\n",
       "    </tr>\n",
       "    <tr>\n",
       "      <th>1.25</th>\n",
       "      <td>0.996139</td>\n",
       "    </tr>\n",
       "  </tbody>\n",
       "</table>\n",
       "</div>"
      ],
      "text/plain": [
       "             T\n",
       "0.25  0.999623\n",
       "0.50  0.998752\n",
       "0.75  0.997880\n",
       "1.00  0.997009\n",
       "1.25  0.996139"
      ]
     },
     "execution_count": 16,
     "metadata": {},
     "output_type": "execute_result"
    }
   ],
   "source": [
    "## Interpoation of OIS discount factionrs\n",
    "full_range = np.arange(0.25,20.5,0.25)\n",
    "\n",
    "interp_ois = interpolate.interp1d(\n",
    "    interpolated_ois_df.index,\n",
    "    interpolated_ois_df[\"OIS_Discount_Factor\"],\n",
    "    kind='linear',\n",
    "    fill_value='extrapolate'\n",
    ")\n",
    "\n",
    "new_interp_ois_df = pd.DataFrame({'T': interp_ois(full_range)}, index=full_range)"
   ]
  },
  {
   "cell_type": "code",
   "execution_count": 17,
   "metadata": {},
   "outputs": [],
   "source": [
    "def calc_cms_rate(F, m, N, T):\n",
    "    alpha = df_sabr_alpha_interp.loc[T, f\"{N}Y\"]\n",
    "    beta = 0.9\n",
    "    rho = df_sabr_rho_interp.loc[T, f\"{N}Y\"]\n",
    "    nu = df_sabr_nu_interp.loc[T, f\"{N}Y\"]  \n",
    "    discount_factor = new_interp_ois_df.loc[T][\"T\"]\n",
    "\n",
    "    atm_vol = SABR(F,F,T,alpha, beta, rho, nu)\n",
    "    maxK = F * np.exp(4 * atm_vol * np.sqrt(T))\n",
    "    integrand_receive = quad(lambda k: h_2(k, m, N)*irr_settled_option_price(F, \n",
    "                                                                                discount_factor,\n",
    "                                                                                k,\n",
    "                                                                                SABR(F,k,T,alpha, beta, rho, nu),\n",
    "                                                                                T, \n",
    "                                                                                m, \n",
    "                                                                                N, \n",
    "                                                                                'receiver'), \n",
    "                                                                                1e-6, # lower bound close to 0\n",
    "                                                                                F, \n",
    "                                                                                limit=100\n",
    "                                                                                )\n",
    "                                                                                \n",
    "    integrand_pay = quad(lambda k: h_2(k, m, N)*irr_settled_option_price(F, \n",
    "                                                                            discount_factor, \n",
    "                                                                            k, \n",
    "                                                                            SABR(F,k,T,alpha, beta, rho, nu),\n",
    "                                                                            T, \n",
    "                                                                            m, \n",
    "                                                                            N, \n",
    "                                                                            'payer'), \n",
    "                                                                            F, \n",
    "                                                                            maxK, # upper bound instead of np.inf\n",
    "                                                                            limit=100 # subintervals\n",
    "                                                                            )\n",
    "    return g_0(F) + integrand_pay[0] + integrand_receive[0]"
   ]
  },
  {
   "cell_type": "code",
   "execution_count": null,
   "metadata": {},
   "outputs": [
    {
     "name": "stdout",
     "output_type": "stream",
     "text": [
      "Tenor          1         2         3         5        10\n",
      "Expiry                                                  \n",
      "1       0.033014  0.035318  0.037987  0.043714  0.114658\n",
      "5       0.040394  0.042291  0.044241  0.050182  0.134110\n",
      "10      0.043421  0.045556  0.048883  0.057192  0.182388\n"
     ]
    }
   ],
   "source": [
    "for expiry in Expiry:\n",
    "    for tenor in Tenors:\n",
    "        F = forward_swap_rates.loc[expiry, tenor]\n",
    "        T = expiry\n",
    "        m = 2\n",
    "        N = tenor        \n",
    "        cms_rate.loc[expiry, tenor] = calc_cms_rate(F, T, m, N)\n",
    "\n",
    "cms_rate.columns.name = 'Tenor'\n",
    "cms_rate.index.name = 'Expiry'\n",
    "cms_rate = cms_rate.reset_index()\n",
    "cms_rate = cms_rate.set_index('Expiry')"
   ]
  },
  {
   "cell_type": "markdown",
   "metadata": {},
   "source": [
    "# Calculating PV of CMS Leg"
   ]
  },
  {
   "cell_type": "code",
   "execution_count": 21,
   "metadata": {},
   "outputs": [
    {
     "name": "stdout",
     "output_type": "stream",
     "text": [
      "start=0.5, df=0.9987515605493134, cms_rate=0.11873064708171856, pv=0.05929120952894809\n",
      "start=1.0, df=0.9970089730807579, cms_rate=0.11465772790703657, pv=0.11644860130713183\n",
      "start=1.5, df=0.9952698594970136, cms_rate=0.11550072186084602, pv=0.17392579491625576\n",
      "start=2.0, df=0.9935307459132694, cms_rate=0.11750373737200932, pv=0.23229758283566043\n",
      "start=2.5, df=0.9917729435657792, cms_rate=0.11994364863621192, pv=0.29177601557063815\n",
      "start=3.0, df=0.9900151412182888, cms_rate=0.1225959370211094, pv=0.3524619325220092\n",
      "start=3.5, df=0.9880658954667711, cms_rate=0.125371339298432, pv=0.414399504836896\n",
      "start=4.0, df=0.9861166497152534, cms_rate=0.12822831474890173, pv=0.47762354290630604\n",
      "start=4.5, df=0.9841503847242372, cms_rate=0.13114525266531663, pv=0.5421568683389704\n",
      "\n",
      " final PV=0.5421568683389704\n"
     ]
    }
   ],
   "source": [
    "## PV of a leg receiving CMS10y semi-annually over the next 5 years\n",
    "pv = 0\n",
    "\n",
    "# todo, interploate foward_swap_rates\n",
    "for start in np.arange(0.5, 5, 0.5):\n",
    "    disc_factor = interpolated_ois_df.loc[start][\"OIS_Discount_Factor\"]\n",
    "    F = forward_swap_df_interp.loc[start, 10]\n",
    "    T = start\n",
    "    m = 2\n",
    "    N = 10\n",
    "    current_cms_rate = calc_cms_rate(F, T, m, N)\n",
    "    pv += disc_factor * 0.5 * current_cms_rate\n",
    "    print(f\"start={start}, df={disc_factor}, cms_rate={current_cms_rate}, pv={pv}\")\n",
    "\n",
    "print(f\"\\n final PV={pv}\")"
   ]
  },
  {
   "cell_type": "code",
   "execution_count": 22,
   "metadata": {},
   "outputs": [
    {
     "name": "stdout",
     "output_type": "stream",
     "text": [
      "start=0.25, df=0.9996228542835911, cms_rate=0.03541262258761836, pv=0.017699633434351318\n",
      "start=0.5, df=0.9987515605493134, cms_rate=0.03492148321611368, pv=0.03513857636374641\n",
      "start=0.75, df=0.9978802668150356, cms_rate=0.035036332029558345, pv=0.05261960854068434\n",
      "start=1.0, df=0.9970089730807579, cms_rate=0.03531803528387061, pv=0.07022580758548524\n",
      "start=1.25, df=0.9961394162888857, cms_rate=0.03566954077949849, pv=0.08799172535117636\n",
      "start=1.5, df=0.9952698594970136, cms_rate=0.036056989116504644, pv=0.10593494259711082\n",
      "start=1.75, df=0.9944003027051416, cms_rate=0.03646546864942761, pv=0.12406557912874866\n",
      "start=2.0, df=0.9935307459132694, cms_rate=0.03688738529115025, pv=0.14238995484030198\n",
      "start=2.25, df=0.9926518447395243, cms_rate=0.03731846345119775, pv=0.16091207563413995\n",
      "start=2.5, df=0.9917729435657792, cms_rate=0.03775611153519482, pv=0.17963482057156896\n",
      "start=2.75, df=0.990894042392034, cms_rate=0.03819866700609918, pv=0.19856023635339937\n",
      "start=3.0, df=0.9900151412182888, cms_rate=0.038645014201887005, pv=0.21768981094963133\n",
      "start=3.25, df=0.9890405183425299, cms_rate=0.03909437649051461, pv=0.2370227721438596\n",
      "start=3.5, df=0.9880658954667711, cms_rate=0.039546196529487765, pv=0.25655989618696623\n",
      "start=3.75, df=0.9870912725910123, cms_rate=0.040000063930314675, pv=0.27630175319131434\n",
      "start=4.0, df=0.9861166497152534, cms_rate=0.0404556697863058, pv=0.29624875796714356\n",
      "start=4.25, df=0.9851335172197453, cms_rate=0.040912777102428424, pv=0.31640103197021496\n",
      "start=4.5, df=0.9841503847242372, cms_rate=0.04137120099622463, pv=0.33675877365868406\n",
      "start=4.75, df=0.9831672522287291, cms_rate=0.04183079509937772, pv=0.35732210759688315\n",
      "start=5.0, df=0.9821841197332211, cms_rate=0.04229144200664048, pv=0.37809109896665355\n",
      "start=5.25, df=0.980961826590859, cms_rate=0.04245073860151715, pv=0.3989123760059912\n",
      "start=5.5, df=0.9797395334484968, cms_rate=0.04261074421710191, pv=0.41978609133556954\n",
      "start=5.75, df=0.9785172403061349, cms_rate=0.04277137342388718, pv=0.44071235447899215\n",
      "start=6.0, df=0.9772949471637727, cms_rate=0.042932554918146515, pv=0.46169123897416003\n",
      "start=6.25, df=0.9760726540214106, cms_rate=0.043094228717552106, pv=0.4827227880728334\n",
      "start=6.5, df=0.9748503608790486, cms_rate=0.04325634399940745, pv=0.5038070193518988\n",
      "start=6.75, df=0.9736280677366865, cms_rate=0.04341885741601339, pv=0.5249439284765427\n",
      "start=7.0, df=0.9724057745943244, cms_rate=0.04358173176866088, pv=0.546133492295876\n",
      "start=7.25, df=0.971036699921981, cms_rate=0.043744934954231415, pv=0.5673724609340054\n",
      "start=7.5, df=0.9696676252496378, cms_rate=0.043908439121184, pv=0.5886607568795338\n",
      "start=7.75, df=0.9682985505772945, cms_rate=0.0440722199879275, pv=0.6099982902470508\n",
      "start=8.0, df=0.9669294759049513, cms_rate=0.04423625628826095, pv=0.6313849603014534\n",
      "start=8.25, df=0.965560401232608, cms_rate=0.044400529317077594, pv=0.6528206567526222\n",
      "start=8.5, df=0.9641913265602646, cms_rate=0.0445650225558025, pv=0.6743052608607559\n",
      "start=8.75, df=0.9628222518879213, cms_rate=0.044729721361700336, pv=0.6958386463846518\n",
      "start=9.0, df=0.961453177215578, cms_rate=0.04489461270869877, pv=0.7174206803989724\n",
      "start=9.25, df=0.9600841025432347, cms_rate=0.045059684970029004, pv=0.739051224001638\n",
      "start=9.5, df=0.9587150278708915, cms_rate=0.04522492773501842, pv=0.7607301329286067\n",
      "start=9.75, df=0.9573459531985482, cms_rate=0.045390331653934794, pv=0.7824572580902239\n",
      "\n",
      " final PV=0.7824572580902239\n"
     ]
    }
   ],
   "source": [
    "## PV of a leg receiving CMS2y quarterly over the next 10 years\n",
    "pv = 0\n",
    "\n",
    "# todo, interploate foward_swap_rates\n",
    "for start in np.arange(0.25, 10, 0.25):\n",
    "    disc_factor = new_interp_ois_df.loc[start][\"T\"]\n",
    "    F = forward_swap_df_interp.loc[start, 2]\n",
    "    T = start\n",
    "    m = 2\n",
    "    N = 2\n",
    "    current_cms_rate = calc_cms_rate(F, T, m, N)\n",
    "    pv += disc_factor * 0.5 * current_cms_rate\n",
    "    print(f\"start={start}, df={disc_factor}, cms_rate={current_cms_rate}, pv={pv}\")\n",
    "\n",
    "print(f\"\\n final PV={pv}\")"
   ]
  },
  {
   "cell_type": "markdown",
   "metadata": {},
   "source": [
    "# Comparing difference between CMS Rate and Forward Swap Rates"
   ]
  },
  {
   "cell_type": "code",
   "execution_count": 24,
   "metadata": {},
   "outputs": [
    {
     "data": {
      "image/png": "[encoded data removed]",
      "text/plain": [
       "<Figure size 1000x600 with 1 Axes>"
      ]
     },
     "metadata": {},
     "output_type": "display_data"
    },
    {
     "data": {
      "image/png": "[encoded data removed]",
      "text/plain": [
       "<Figure size 1000x600 with 1 Axes>"
      ]
     },
     "metadata": {},
     "output_type": "display_data"
    },
    {
     "data": {
      "image/png": "[encoded data removed]",
      "text/plain": [
       "<Figure size 1000x600 with 1 Axes>"
      ]
     },
     "metadata": {},
     "output_type": "display_data"
    }
   ],
   "source": [
    "## plot cms rates with forward swap rates for diff expiries \n",
    "expiries = [1,5,10]\n",
    "tenors = [1,2,3,5,10]\n",
    "\n",
    "for expiry in expiries: \n",
    "    plt.figure(figsize=(10, 6))\n",
    "    plt.plot(cms_rate.columns, cms_rate.loc[expiry], label=f'CMS Rates')\n",
    "    plt.plot(forward_swap_rates.columns, forward_swap_rates.loc[expiry], label=f'Forward Swap Rates', linestyle='--')\n",
    "    plt.title(f'CMS Rates vs Forward Swap Rates for {expiry}Y Expiry')\n",
    "    plt.xlabel('Tenors (Years)')\n",
    "    plt.ylabel('Rates')\n",
    "    plt.legend()\n",
    "    plt.grid(True)\n",
    "    plt.tight_layout()\n",
    "    plt.show()"
   ]
  }
 ],
 "metadata": {
  "kernelspec": {
   "display_name": "base",
   "language": "python",
   "name": "python3"
  },
  "language_info": {
   "codemirror_mode": {
    "name": "ipython",
    "version": 3
   },
   "file_extension": ".py",
   "mimetype": "text/x-python",
   "name": "python",
   "nbconvert_exporter": "python",
   "pygments_lexer": "ipython3",
   "version": "3.12.4"
  }
 },
 "nbformat": 4,
 "nbformat_minor": 2
}
