{
 "cells": [
  {
   "cell_type": "code",
   "execution_count": 1,
   "metadata": {},
   "outputs": [],
   "source": [
    "# Python calculation for the example and exercise from Lecture 4 notes\n",
    "import numpy as np\n",
    "import os\n",
    "import math\n",
    "import pandas as pd\n",
    "import scipy.stats as stat\n",
    "import statistics\n",
    "from statistics import NormalDist\n",
    "from scipy.interpolate import interp1d\n",
    "from scipy.optimize import fsolve\n",
    "import scipy.integrate as integrate\n",
    "import scipy.stats as stats\n"
   ]
  },
  {
   "cell_type": "markdown",
   "metadata": {},
   "source": [
    "# Part 1 - Data Cleaning"
   ]
  },
  {
   "cell_type": "code",
   "execution_count": 2,
   "metadata": {},
   "outputs": [
    {
     "data": {
      "application/vnd.microsoft.datawrangler.viewer.v0+json": {
       "columns": [
        {
         "name": "index",
         "rawType": "int64",
         "type": "integer"
        },
        {
         "name": "Tenor",
         "rawType": "object",
         "type": "string"
        },
        {
         "name": "Product",
         "rawType": "object",
         "type": "string"
        },
        {
         "name": "Rate",
         "rawType": "float64",
         "type": "float"
        }
       ],
       "conversionMethod": "pd.DataFrame",
       "ref": "02294180-c0b8-4cbf-bfd2-d9d601703f45",
       "rows": [
        [
         "0",
         "6m",
         "OIS",
         "0.0025"
        ],
        [
         "1",
         "1y",
         "OIS",
         "0.003"
        ],
        [
         "2",
         "2y",
         "OIS",
         "0.00325"
        ],
        [
         "3",
         "3y",
         "OIS",
         "0.00335"
        ],
        [
         "4",
         "4y",
         "OIS",
         "0.0035"
        ]
       ],
       "shape": {
        "columns": 3,
        "rows": 5
       }
      },
      "text/html": [
       "<div>\n",
       "<style scoped>\n",
       "    .dataframe tbody tr th:only-of-type {\n",
       "        vertical-align: middle;\n",
       "    }\n",
       "\n",
       "    .dataframe tbody tr th {\n",
       "        vertical-align: top;\n",
       "    }\n",
       "\n",
       "    .dataframe thead th {\n",
       "        text-align: right;\n",
       "    }\n",
       "</style>\n",
       "<table border=\"1\" class=\"dataframe\">\n",
       "  <thead>\n",
       "    <tr style=\"text-align: right;\">\n",
       "      <th></th>\n",
       "      <th>Tenor</th>\n",
       "      <th>Product</th>\n",
       "      <th>Rate</th>\n",
       "    </tr>\n",
       "  </thead>\n",
       "  <tbody>\n",
       "    <tr>\n",
       "      <th>0</th>\n",
       "      <td>6m</td>\n",
       "      <td>OIS</td>\n",
       "      <td>0.00250</td>\n",
       "    </tr>\n",
       "    <tr>\n",
       "      <th>1</th>\n",
       "      <td>1y</td>\n",
       "      <td>OIS</td>\n",
       "      <td>0.00300</td>\n",
       "    </tr>\n",
       "    <tr>\n",
       "      <th>2</th>\n",
       "      <td>2y</td>\n",
       "      <td>OIS</td>\n",
       "      <td>0.00325</td>\n",
       "    </tr>\n",
       "    <tr>\n",
       "      <th>3</th>\n",
       "      <td>3y</td>\n",
       "      <td>OIS</td>\n",
       "      <td>0.00335</td>\n",
       "    </tr>\n",
       "    <tr>\n",
       "      <th>4</th>\n",
       "      <td>4y</td>\n",
       "      <td>OIS</td>\n",
       "      <td>0.00350</td>\n",
       "    </tr>\n",
       "  </tbody>\n",
       "</table>\n",
       "</div>"
      ],
      "text/plain": [
       "  Tenor Product     Rate\n",
       "0    6m     OIS  0.00250\n",
       "1    1y     OIS  0.00300\n",
       "2    2y     OIS  0.00325\n",
       "3    3y     OIS  0.00335\n",
       "4    4y     OIS  0.00350"
      ]
     },
     "execution_count": 2,
     "metadata": {},
     "output_type": "execute_result"
    }
   ],
   "source": [
    "ois = pd.read_excel(\"IR Data.xlsx\", sheet_name=\"OIS\", engine=\"openpyxl\", usecols=[0,1,2])\n",
    "ois.head(5)"
   ]
  },
  {
   "cell_type": "code",
   "execution_count": 3,
   "metadata": {},
   "outputs": [],
   "source": [
    "def convert_tenor_to_t(tenor:str):\n",
    "    if tenor.endswith(\"y\"):\n",
    "        return int(tenor.removesuffix(\"y\"));\n",
    "    if tenor.endswith(\"m\"):\n",
    "        tenor = tenor.removesuffix(\"m\")\n",
    "        return int(tenor) * 30 / 360 # NOTE: based on day count 30/360 convention"
   ]
  },
  {
   "cell_type": "code",
   "execution_count": null,
   "metadata": {},
   "outputs": [
    {
     "data": {
      "application/vnd.microsoft.datawrangler.viewer.v0+json": {
       "columns": [
        {
         "name": "index",
         "rawType": "int64",
         "type": "integer"
        },
        {
         "name": "Tenor",
         "rawType": "object",
         "type": "string"
        },
        {
         "name": "Product",
         "rawType": "object",
         "type": "string"
        },
        {
         "name": "Rate",
         "rawType": "float64",
         "type": "float"
        },
        {
         "name": "T_start",
         "rawType": "float64",
         "type": "float"
        },
        {
         "name": "T",
         "rawType": "float64",
         "type": "float"
        }
       ],
       "conversionMethod": "pd.DataFrame",
       "ref": "2172280c-2db8-496e-a6aa-8b3b5f4c0cdf",
       "rows": [
        [
         "0",
         "6m",
         "OIS",
         "0.0025",
         "0.0",
         "0.5"
        ],
        [
         "1",
         "1y",
         "OIS",
         "0.003",
         "0.5",
         "1.0"
        ],
        [
         "2",
         "2y",
         "OIS",
         "0.00325",
         "1.0",
         "2.0"
        ],
        [
         "3",
         "3y",
         "OIS",
         "0.00335",
         "2.0",
         "3.0"
        ],
        [
         "4",
         "4y",
         "OIS",
         "0.0035",
         "3.0",
         "4.0"
        ]
       ],
       "shape": {
        "columns": 5,
        "rows": 5
       }
      },
      "text/html": [
       "<div>\n",
       "<style scoped>\n",
       "    .dataframe tbody tr th:only-of-type {\n",
       "        vertical-align: middle;\n",
       "    }\n",
       "\n",
       "    .dataframe tbody tr th {\n",
       "        vertical-align: top;\n",
       "    }\n",
       "\n",
       "    .dataframe thead th {\n",
       "        text-align: right;\n",
       "    }\n",
       "</style>\n",
       "<table border=\"1\" class=\"dataframe\">\n",
       "  <thead>\n",
       "    <tr style=\"text-align: right;\">\n",
       "      <th></th>\n",
       "      <th>Tenor</th>\n",
       "      <th>Product</th>\n",
       "      <th>Rate</th>\n",
       "      <th>T_start</th>\n",
       "      <th>T</th>\n",
       "    </tr>\n",
       "  </thead>\n",
       "  <tbody>\n",
       "    <tr>\n",
       "      <th>0</th>\n",
       "      <td>6m</td>\n",
       "      <td>OIS</td>\n",
       "      <td>0.00250</td>\n",
       "      <td>0.0</td>\n",
       "      <td>0.5</td>\n",
       "    </tr>\n",
       "    <tr>\n",
       "      <th>1</th>\n",
       "      <td>1y</td>\n",
       "      <td>OIS</td>\n",
       "      <td>0.00300</td>\n",
       "      <td>0.5</td>\n",
       "      <td>1.0</td>\n",
       "    </tr>\n",
       "    <tr>\n",
       "      <th>2</th>\n",
       "      <td>2y</td>\n",
       "      <td>OIS</td>\n",
       "      <td>0.00325</td>\n",
       "      <td>1.0</td>\n",
       "      <td>2.0</td>\n",
       "    </tr>\n",
       "    <tr>\n",
       "      <th>3</th>\n",
       "      <td>3y</td>\n",
       "      <td>OIS</td>\n",
       "      <td>0.00335</td>\n",
       "      <td>2.0</td>\n",
       "      <td>3.0</td>\n",
       "    </tr>\n",
       "    <tr>\n",
       "      <th>4</th>\n",
       "      <td>4y</td>\n",
       "      <td>OIS</td>\n",
       "      <td>0.00350</td>\n",
       "      <td>3.0</td>\n",
       "      <td>4.0</td>\n",
       "    </tr>\n",
       "  </tbody>\n",
       "</table>\n",
       "</div>"
      ],
      "text/plain": [
       "  Tenor Product     Rate  T_start    T\n",
       "0    6m     OIS  0.00250      0.0  0.5\n",
       "1    1y     OIS  0.00300      0.5  1.0\n",
       "2    2y     OIS  0.00325      1.0  2.0\n",
       "3    3y     OIS  0.00335      2.0  3.0\n",
       "4    4y     OIS  0.00350      3.0  4.0"
      ]
     },
     "execution_count": 4,
     "metadata": {},
     "output_type": "execute_result"
    }
   ],
   "source": [
    "ois['T'] = ois['Tenor'].apply(convert_tenor_to_t)\n",
    "\n",
    "for index, row in ois.iterrows():\n",
    "    t_start = 0;\n",
    "    if (index != 0):\n",
    "        t_start = ois.iloc[index-1]['T']\n",
    "    ois.at[index, 'T_start'] = float(t_start)\n",
    "# ois[\"ois_discount_factor\"] = ois.apply(lambda row: calc_ois_discount_factor(row[\"Rate\"], 0, row[\"T\"]), axis=1)\n",
    "\n",
    "# Just to rearrange it \n",
    "col = ois.pop(\"T_start\")\n",
    "target_index = ois.columns.get_loc('T')\n",
    "ois.insert(target_index, \"T_start\", col)\n",
    "ois.head(5)\n"
   ]
  },
  {
   "cell_type": "markdown",
   "metadata": {},
   "source": [
    "## Calculating OIS Discount Factors"
   ]
  },
  {
   "cell_type": "markdown",
   "metadata": {},
   "source": [
    "### Formulas below:\n",
    "\n",
    "\n",
    "#### for calc_compounded_rate (idk what to call this): \n",
    "$\\frac{1}{(1 + f/360) ** (360N)}$\n",
    "\n",
    "#### calc_discount_factor_ois:\n",
    "- this is mainly used compounded with previous discount factor\n",
    "\n",
    "$DF_{\\text{previous}} * \\frac{1}{(1 + f/360) ** (360N)}$"
   ]
  },
  {
   "cell_type": "code",
   "execution_count": 5,
   "metadata": {},
   "outputs": [],
   "source": [
    "def calc_compounded_rate(f, N):\n",
    "    # f - overnight rate\n",
    "    # N - number of years\n",
    "    return 1 / ((1 + f/360) ** (360 * N))\n",
    "\n",
    "def calc_discount_factor_ois(previous_discount_factor, f, N):\n",
    "    # previous_discount_factor\n",
    "    # f - overnight rate\n",
    "    # N - number of years for new overnight rate to compound\n",
    "    return previous_discount_factor * calc_compounded_rate(f, N)"
   ]
  },
  {
   "cell_type": "code",
   "execution_count": 6,
   "metadata": {},
   "outputs": [
    {
     "data": {
      "application/vnd.microsoft.datawrangler.viewer.v0+json": {
       "columns": [
        {
         "name": "index",
         "rawType": "int64",
         "type": "integer"
        },
        {
         "name": "Tenor",
         "rawType": "object",
         "type": "string"
        },
        {
         "name": "Product",
         "rawType": "object",
         "type": "string"
        },
        {
         "name": "Rate",
         "rawType": "float64",
         "type": "float"
        },
        {
         "name": "T_start",
         "rawType": "float64",
         "type": "float"
        },
        {
         "name": "T",
         "rawType": "float64",
         "type": "float"
        },
        {
         "name": "f",
         "rawType": "float64",
         "type": "float"
        },
        {
         "name": "Discount Factor",
         "rawType": "float64",
         "type": "float"
        }
       ],
       "conversionMethod": "pd.DataFrame",
       "ref": "4cc7abde-052c-4827-a697-23f8b1071661",
       "rows": [
        [
         "0",
         "6m",
         "OIS",
         "0.0025",
         "0.0",
         "0.5",
         "0.0024984474705913584",
         "0.9987515605493182"
        ],
        [
         "1",
         "1y",
         "OIS",
         "0.003",
         "0.5",
         "1.0",
         "0.0034925961006274067",
         "0.9970089730807411"
        ],
        [
         "2",
         "2y",
         "OIS",
         "0.00325",
         "1.0",
         "2.0",
         "0.0034947783831475255",
         "0.9935307459132384"
        ],
        [
         "3",
         "3y",
         "OIS",
         "0.00335",
         "2.0",
         "3.0",
         "0.0035447888626177807",
         "0.9900151412183346"
        ],
        [
         "4",
         "4y",
         "OIS",
         "0.0035",
         "3.0",
         "4.0",
         "0.003945605189158922",
         "0.9861166497152494"
        ],
        [
         "5",
         "5y",
         "OIS",
         "0.0036",
         "4.0",
         "5.0",
         "0.003995890364461312",
         "0.9821841197332517"
        ],
        [
         "6",
         "7y",
         "OIS",
         "0.004",
         "5.0",
         "7.0",
         "0.0030047646771816637",
         "0.9762993799614977"
        ],
        [
         "7",
         "10y",
         "OIS",
         "0.0045",
         "7.0",
         "10.0",
         "0.0025096806339992214",
         "0.9689764086178726"
        ],
        [
         "8",
         "15y",
         "OIS",
         "0.005",
         "10.0",
         "15.0",
         "0.0017102668973885335",
         "0.9607257143372713"
        ],
        [
         "9",
         "20y",
         "OIS",
         "0.00525",
         "15.0",
         "20.0",
         "0.0014564727756865537",
         "0.953754787419964"
        ],
        [
         "10",
         "30y",
         "OIS",
         "0.0055",
         "20.0",
         "30.0",
         "0.0007796538297314328",
         "0.9463477219694495"
        ]
       ],
       "shape": {
        "columns": 7,
        "rows": 11
       }
      },
      "text/html": [
       "<div>\n",
       "<style scoped>\n",
       "    .dataframe tbody tr th:only-of-type {\n",
       "        vertical-align: middle;\n",
       "    }\n",
       "\n",
       "    .dataframe tbody tr th {\n",
       "        vertical-align: top;\n",
       "    }\n",
       "\n",
       "    .dataframe thead th {\n",
       "        text-align: right;\n",
       "    }\n",
       "</style>\n",
       "<table border=\"1\" class=\"dataframe\">\n",
       "  <thead>\n",
       "    <tr style=\"text-align: right;\">\n",
       "      <th></th>\n",
       "      <th>Tenor</th>\n",
       "      <th>Product</th>\n",
       "      <th>Rate</th>\n",
       "      <th>T_start</th>\n",
       "      <th>T</th>\n",
       "      <th>f</th>\n",
       "      <th>Discount Factor</th>\n",
       "    </tr>\n",
       "  </thead>\n",
       "  <tbody>\n",
       "    <tr>\n",
       "      <th>0</th>\n",
       "      <td>6m</td>\n",
       "      <td>OIS</td>\n",
       "      <td>0.00250</td>\n",
       "      <td>0.0</td>\n",
       "      <td>0.5</td>\n",
       "      <td>0.002498</td>\n",
       "      <td>0.998752</td>\n",
       "    </tr>\n",
       "    <tr>\n",
       "      <th>1</th>\n",
       "      <td>1y</td>\n",
       "      <td>OIS</td>\n",
       "      <td>0.00300</td>\n",
       "      <td>0.5</td>\n",
       "      <td>1.0</td>\n",
       "      <td>0.003493</td>\n",
       "      <td>0.997009</td>\n",
       "    </tr>\n",
       "    <tr>\n",
       "      <th>2</th>\n",
       "      <td>2y</td>\n",
       "      <td>OIS</td>\n",
       "      <td>0.00325</td>\n",
       "      <td>1.0</td>\n",
       "      <td>2.0</td>\n",
       "      <td>0.003495</td>\n",
       "      <td>0.993531</td>\n",
       "    </tr>\n",
       "    <tr>\n",
       "      <th>3</th>\n",
       "      <td>3y</td>\n",
       "      <td>OIS</td>\n",
       "      <td>0.00335</td>\n",
       "      <td>2.0</td>\n",
       "      <td>3.0</td>\n",
       "      <td>0.003545</td>\n",
       "      <td>0.990015</td>\n",
       "    </tr>\n",
       "    <tr>\n",
       "      <th>4</th>\n",
       "      <td>4y</td>\n",
       "      <td>OIS</td>\n",
       "      <td>0.00350</td>\n",
       "      <td>3.0</td>\n",
       "      <td>4.0</td>\n",
       "      <td>0.003946</td>\n",
       "      <td>0.986117</td>\n",
       "    </tr>\n",
       "    <tr>\n",
       "      <th>5</th>\n",
       "      <td>5y</td>\n",
       "      <td>OIS</td>\n",
       "      <td>0.00360</td>\n",
       "      <td>4.0</td>\n",
       "      <td>5.0</td>\n",
       "      <td>0.003996</td>\n",
       "      <td>0.982184</td>\n",
       "    </tr>\n",
       "    <tr>\n",
       "      <th>6</th>\n",
       "      <td>7y</td>\n",
       "      <td>OIS</td>\n",
       "      <td>0.00400</td>\n",
       "      <td>5.0</td>\n",
       "      <td>7.0</td>\n",
       "      <td>0.003005</td>\n",
       "      <td>0.976299</td>\n",
       "    </tr>\n",
       "    <tr>\n",
       "      <th>7</th>\n",
       "      <td>10y</td>\n",
       "      <td>OIS</td>\n",
       "      <td>0.00450</td>\n",
       "      <td>7.0</td>\n",
       "      <td>10.0</td>\n",
       "      <td>0.002510</td>\n",
       "      <td>0.968976</td>\n",
       "    </tr>\n",
       "    <tr>\n",
       "      <th>8</th>\n",
       "      <td>15y</td>\n",
       "      <td>OIS</td>\n",
       "      <td>0.00500</td>\n",
       "      <td>10.0</td>\n",
       "      <td>15.0</td>\n",
       "      <td>0.001710</td>\n",
       "      <td>0.960726</td>\n",
       "    </tr>\n",
       "    <tr>\n",
       "      <th>9</th>\n",
       "      <td>20y</td>\n",
       "      <td>OIS</td>\n",
       "      <td>0.00525</td>\n",
       "      <td>15.0</td>\n",
       "      <td>20.0</td>\n",
       "      <td>0.001456</td>\n",
       "      <td>0.953755</td>\n",
       "    </tr>\n",
       "    <tr>\n",
       "      <th>10</th>\n",
       "      <td>30y</td>\n",
       "      <td>OIS</td>\n",
       "      <td>0.00550</td>\n",
       "      <td>20.0</td>\n",
       "      <td>30.0</td>\n",
       "      <td>0.000780</td>\n",
       "      <td>0.946348</td>\n",
       "    </tr>\n",
       "  </tbody>\n",
       "</table>\n",
       "</div>"
      ],
      "text/plain": [
       "   Tenor Product     Rate  T_start     T         f  Discount Factor\n",
       "0     6m     OIS  0.00250      0.0   0.5  0.002498         0.998752\n",
       "1     1y     OIS  0.00300      0.5   1.0  0.003493         0.997009\n",
       "2     2y     OIS  0.00325      1.0   2.0  0.003495         0.993531\n",
       "3     3y     OIS  0.00335      2.0   3.0  0.003545         0.990015\n",
       "4     4y     OIS  0.00350      3.0   4.0  0.003946         0.986117\n",
       "5     5y     OIS  0.00360      4.0   5.0  0.003996         0.982184\n",
       "6     7y     OIS  0.00400      5.0   7.0  0.003005         0.976299\n",
       "7    10y     OIS  0.00450      7.0  10.0  0.002510         0.968976\n",
       "8    15y     OIS  0.00500     10.0  15.0  0.001710         0.960726\n",
       "9    20y     OIS  0.00525     15.0  20.0  0.001456         0.953755\n",
       "10   30y     OIS  0.00550     20.0  30.0  0.000780         0.946348"
      ]
     },
     "execution_count": 6,
     "metadata": {},
     "output_type": "execute_result"
    }
   ],
   "source": [
    "previous_flt_payouts = [] # this is used to easily calculate the previous flt_payouts \n",
    "previous_discount_factors = []\n",
    "\n",
    "DF_name = \"Discount Factor\"\n",
    "\n",
    "for index, row in ois.iterrows():\n",
    "    f = -1 # temporary place holder\n",
    "    current_discount_factor = -1\n",
    "    if index == 0: \n",
    "        # T = 0.5\n",
    "        f = ( (row['T'] * row['Rate'] + 1) ** (1/180) - 1 ) * 360\n",
    "        current_discount_factor = calc_discount_factor_ois(1, f, 0.5) # no previous discount factor, set to 1 for multiplying\n",
    "    elif index == 1: \n",
    "        # T = 1;\n",
    "        first_row = ois.iloc[0]\n",
    "\n",
    "        # note: discount_factor Do(0,1Y) is not here because its cancelled out, so no need to include, actually can just manually rearrange\n",
    "        f = fsolve(\n",
    "            lambda f:\n",
    "               ( (1 + first_row['f']/360) ** 180 ) * ( (1 + f/360) ** 180) # PV flt\n",
    "               - 1.003 # PV fix \n",
    "            ,\n",
    "            x0 = first_row['f']\n",
    "            )\n",
    "\n",
    "        current_discount_factor = calc_discount_factor_ois(first_row[DF_name], f, 0.5);\n",
    "        current_flt_payout = current_discount_factor * (( ((1 + first_row['f']/360) ** 180) * ((1 + f/360)** 180)) - 1 )\n",
    "\n",
    "        # saving it to use later\n",
    "        previous_flt_payouts.append(current_flt_payout)\n",
    "        previous_discount_factors.append(current_discount_factor)\n",
    "    else:\n",
    "        previous_row = ois.iloc[index-1];\n",
    "        N = row['T'] - previous_row['T']\n",
    "        # fsolve is trying to find overnight rate f -> using 0 = PV_flt - PV_fix\n",
    "        f = fsolve(\n",
    "            lambda f: \n",
    "            np.sum(previous_flt_payouts) + calc_discount_factor_ois(previous_row[DF_name], f, N) * ((1 + f/360) ** (360 * N) - 1) # pv of flt = sum of previous flt payout + current flt payout \n",
    "            - (np.sum(previous_discount_factors) + calc_discount_factor_ois(previous_row[DF_name], f, N)) * row['Rate'], # pv of fix = [sum of previous discount factor + current discount factor] * ois_par_swap_rate\n",
    "            x0= previous_row['f']\n",
    "        )\n",
    "        \n",
    "        current_discount_factor = calc_discount_factor_ois(previous_row[DF_name], f, N)\n",
    "        current_flt_payout = current_discount_factor * ((1 + f/360) ** (360 * N) - 1)\n",
    "\n",
    "        previous_flt_payouts.append(current_flt_payout)\n",
    "        previous_discount_factors.append(current_discount_factor)\n",
    "\n",
    "    ois.at[index, 'f'] = f;\n",
    "    ois.at[index,DF_name] = current_discount_factor\n",
    "ois"
   ]
  },
  {
   "cell_type": "code",
   "execution_count": 7,
   "metadata": {},
   "outputs": [
    {
     "data": {
      "application/vnd.microsoft.datawrangler.viewer.v0+json": {
       "columns": [
        {
         "name": "index",
         "rawType": "int64",
         "type": "integer"
        },
        {
         "name": "Tenor",
         "rawType": "float64",
         "type": "float"
        },
        {
         "name": "Rate",
         "rawType": "float64",
         "type": "float"
        },
        {
         "name": "Discount Factor",
         "rawType": "float64",
         "type": "float"
        }
       ],
       "conversionMethod": "pd.DataFrame",
       "ref": "75418920-ab14-4c2a-8931-cadaeaa12344",
       "rows": [
        [
         "0",
         "0.5",
         "0.0025",
         "0.9987515605493182"
        ],
        [
         "1",
         "1.0",
         "0.003",
         "0.9970089730807411"
        ],
        [
         "2",
         "1.5",
         "0.003125",
         "0.9952698594969898"
        ],
        [
         "3",
         "2.0",
         "0.00325",
         "0.9935307459132384"
        ],
        [
         "4",
         "2.5",
         "0.0033",
         "0.9917729435657865"
        ],
        [
         "5",
         "3.0",
         "0.00335",
         "0.9900151412183346"
        ],
        [
         "6",
         "3.5",
         "0.003425",
         "0.988065895466792"
        ],
        [
         "7",
         "4.0",
         "0.0035",
         "0.9861166497152494"
        ],
        [
         "8",
         "4.5",
         "0.00355",
         "0.9841503847242505"
        ],
        [
         "9",
         "5.0",
         "0.0036",
         "0.9821841197332517"
        ],
        [
         "10",
         "5.5",
         "0.0037",
         "0.9807129347903132"
        ],
        [
         "11",
         "6.0",
         "0.0038",
         "0.9792417498473747"
        ],
        [
         "12",
         "6.5",
         "0.0039",
         "0.9777705649044363"
        ],
        [
         "13",
         "7.0",
         "0.004",
         "0.9762993799614977"
        ],
        [
         "14",
         "7.5",
         "0.004083333333333333",
         "0.9750788847375602"
        ],
        [
         "15",
         "8.0",
         "0.004166666666666667",
         "0.9738583895136227"
        ],
        [
         "16",
         "8.5",
         "0.00425",
         "0.9726378942896852"
        ],
        [
         "17",
         "9.0",
         "0.004333333333333333",
         "0.9714173990657476"
        ],
        [
         "18",
         "9.5",
         "0.004416666666666666",
         "0.9701969038418101"
        ],
        [
         "19",
         "10.0",
         "0.0045",
         "0.9689764086178726"
        ],
        [
         "20",
         "10.5",
         "0.004549999999999999",
         "0.9681513391898124"
        ],
        [
         "21",
         "11.0",
         "0.0046",
         "0.9673262697617523"
        ],
        [
         "22",
         "11.5",
         "0.00465",
         "0.9665012003336922"
        ],
        [
         "23",
         "12.0",
         "0.0047",
         "0.9656761309056321"
        ],
        [
         "24",
         "12.5",
         "0.00475",
         "0.9648510614775719"
        ],
        [
         "25",
         "13.0",
         "0.0048",
         "0.9640259920495118"
        ],
        [
         "26",
         "13.5",
         "0.00485",
         "0.9632009226214516"
        ],
        [
         "27",
         "14.0",
         "0.0049",
         "0.9623758531933916"
        ],
        [
         "28",
         "14.5",
         "0.00495",
         "0.9615507837653314"
        ],
        [
         "29",
         "15.0",
         "0.005",
         "0.9607257143372713"
        ],
        [
         "30",
         "15.5",
         "0.005025",
         "0.9600286216455406"
        ],
        [
         "31",
         "16.0",
         "0.00505",
         "0.9593315289538098"
        ],
        [
         "32",
         "16.5",
         "0.0050750000000000005",
         "0.9586344362620791"
        ],
        [
         "33",
         "17.0",
         "0.0051",
         "0.9579373435703483"
        ],
        [
         "34",
         "17.5",
         "0.005125",
         "0.9572402508786176"
        ],
        [
         "35",
         "18.0",
         "0.00515",
         "0.956543158186887"
        ],
        [
         "36",
         "18.5",
         "0.005175",
         "0.9558460654951562"
        ],
        [
         "37",
         "19.0",
         "0.005200000000000001",
         "0.9551489728034255"
        ],
        [
         "38",
         "19.5",
         "0.0052250000000000005",
         "0.9544518801116947"
        ],
        [
         "39",
         "20.0",
         "0.00525",
         "0.953754787419964"
        ]
       ],
       "shape": {
        "columns": 3,
        "rows": 40
       }
      },
      "text/html": [
       "<div>\n",
       "<style scoped>\n",
       "    .dataframe tbody tr th:only-of-type {\n",
       "        vertical-align: middle;\n",
       "    }\n",
       "\n",
       "    .dataframe tbody tr th {\n",
       "        vertical-align: top;\n",
       "    }\n",
       "\n",
       "    .dataframe thead th {\n",
       "        text-align: right;\n",
       "    }\n",
       "</style>\n",
       "<table border=\"1\" class=\"dataframe\">\n",
       "  <thead>\n",
       "    <tr style=\"text-align: right;\">\n",
       "      <th></th>\n",
       "      <th>Tenor</th>\n",
       "      <th>Rate</th>\n",
       "      <th>Discount Factor</th>\n",
       "    </tr>\n",
       "  </thead>\n",
       "  <tbody>\n",
       "    <tr>\n",
       "      <th>0</th>\n",
       "      <td>0.5</td>\n",
       "      <td>0.002500</td>\n",
       "      <td>0.998752</td>\n",
       "    </tr>\n",
       "    <tr>\n",
       "      <th>1</th>\n",
       "      <td>1.0</td>\n",
       "      <td>0.003000</td>\n",
       "      <td>0.997009</td>\n",
       "    </tr>\n",
       "    <tr>\n",
       "      <th>2</th>\n",
       "      <td>1.5</td>\n",
       "      <td>0.003125</td>\n",
       "      <td>0.995270</td>\n",
       "    </tr>\n",
       "    <tr>\n",
       "      <th>3</th>\n",
       "      <td>2.0</td>\n",
       "      <td>0.003250</td>\n",
       "      <td>0.993531</td>\n",
       "    </tr>\n",
       "    <tr>\n",
       "      <th>4</th>\n",
       "      <td>2.5</td>\n",
       "      <td>0.003300</td>\n",
       "      <td>0.991773</td>\n",
       "    </tr>\n",
       "    <tr>\n",
       "      <th>5</th>\n",
       "      <td>3.0</td>\n",
       "      <td>0.003350</td>\n",
       "      <td>0.990015</td>\n",
       "    </tr>\n",
       "    <tr>\n",
       "      <th>6</th>\n",
       "      <td>3.5</td>\n",
       "      <td>0.003425</td>\n",
       "      <td>0.988066</td>\n",
       "    </tr>\n",
       "    <tr>\n",
       "      <th>7</th>\n",
       "      <td>4.0</td>\n",
       "      <td>0.003500</td>\n",
       "      <td>0.986117</td>\n",
       "    </tr>\n",
       "    <tr>\n",
       "      <th>8</th>\n",
       "      <td>4.5</td>\n",
       "      <td>0.003550</td>\n",
       "      <td>0.984150</td>\n",
       "    </tr>\n",
       "    <tr>\n",
       "      <th>9</th>\n",
       "      <td>5.0</td>\n",
       "      <td>0.003600</td>\n",
       "      <td>0.982184</td>\n",
       "    </tr>\n",
       "    <tr>\n",
       "      <th>10</th>\n",
       "      <td>5.5</td>\n",
       "      <td>0.003700</td>\n",
       "      <td>0.980713</td>\n",
       "    </tr>\n",
       "    <tr>\n",
       "      <th>11</th>\n",
       "      <td>6.0</td>\n",
       "      <td>0.003800</td>\n",
       "      <td>0.979242</td>\n",
       "    </tr>\n",
       "    <tr>\n",
       "      <th>12</th>\n",
       "      <td>6.5</td>\n",
       "      <td>0.003900</td>\n",
       "      <td>0.977771</td>\n",
       "    </tr>\n",
       "    <tr>\n",
       "      <th>13</th>\n",
       "      <td>7.0</td>\n",
       "      <td>0.004000</td>\n",
       "      <td>0.976299</td>\n",
       "    </tr>\n",
       "    <tr>\n",
       "      <th>14</th>\n",
       "      <td>7.5</td>\n",
       "      <td>0.004083</td>\n",
       "      <td>0.975079</td>\n",
       "    </tr>\n",
       "    <tr>\n",
       "      <th>15</th>\n",
       "      <td>8.0</td>\n",
       "      <td>0.004167</td>\n",
       "      <td>0.973858</td>\n",
       "    </tr>\n",
       "    <tr>\n",
       "      <th>16</th>\n",
       "      <td>8.5</td>\n",
       "      <td>0.004250</td>\n",
       "      <td>0.972638</td>\n",
       "    </tr>\n",
       "    <tr>\n",
       "      <th>17</th>\n",
       "      <td>9.0</td>\n",
       "      <td>0.004333</td>\n",
       "      <td>0.971417</td>\n",
       "    </tr>\n",
       "    <tr>\n",
       "      <th>18</th>\n",
       "      <td>9.5</td>\n",
       "      <td>0.004417</td>\n",
       "      <td>0.970197</td>\n",
       "    </tr>\n",
       "    <tr>\n",
       "      <th>19</th>\n",
       "      <td>10.0</td>\n",
       "      <td>0.004500</td>\n",
       "      <td>0.968976</td>\n",
       "    </tr>\n",
       "    <tr>\n",
       "      <th>20</th>\n",
       "      <td>10.5</td>\n",
       "      <td>0.004550</td>\n",
       "      <td>0.968151</td>\n",
       "    </tr>\n",
       "    <tr>\n",
       "      <th>21</th>\n",
       "      <td>11.0</td>\n",
       "      <td>0.004600</td>\n",
       "      <td>0.967326</td>\n",
       "    </tr>\n",
       "    <tr>\n",
       "      <th>22</th>\n",
       "      <td>11.5</td>\n",
       "      <td>0.004650</td>\n",
       "      <td>0.966501</td>\n",
       "    </tr>\n",
       "    <tr>\n",
       "      <th>23</th>\n",
       "      <td>12.0</td>\n",
       "      <td>0.004700</td>\n",
       "      <td>0.965676</td>\n",
       "    </tr>\n",
       "    <tr>\n",
       "      <th>24</th>\n",
       "      <td>12.5</td>\n",
       "      <td>0.004750</td>\n",
       "      <td>0.964851</td>\n",
       "    </tr>\n",
       "    <tr>\n",
       "      <th>25</th>\n",
       "      <td>13.0</td>\n",
       "      <td>0.004800</td>\n",
       "      <td>0.964026</td>\n",
       "    </tr>\n",
       "    <tr>\n",
       "      <th>26</th>\n",
       "      <td>13.5</td>\n",
       "      <td>0.004850</td>\n",
       "      <td>0.963201</td>\n",
       "    </tr>\n",
       "    <tr>\n",
       "      <th>27</th>\n",
       "      <td>14.0</td>\n",
       "      <td>0.004900</td>\n",
       "      <td>0.962376</td>\n",
       "    </tr>\n",
       "    <tr>\n",
       "      <th>28</th>\n",
       "      <td>14.5</td>\n",
       "      <td>0.004950</td>\n",
       "      <td>0.961551</td>\n",
       "    </tr>\n",
       "    <tr>\n",
       "      <th>29</th>\n",
       "      <td>15.0</td>\n",
       "      <td>0.005000</td>\n",
       "      <td>0.960726</td>\n",
       "    </tr>\n",
       "    <tr>\n",
       "      <th>30</th>\n",
       "      <td>15.5</td>\n",
       "      <td>0.005025</td>\n",
       "      <td>0.960029</td>\n",
       "    </tr>\n",
       "    <tr>\n",
       "      <th>31</th>\n",
       "      <td>16.0</td>\n",
       "      <td>0.005050</td>\n",
       "      <td>0.959332</td>\n",
       "    </tr>\n",
       "    <tr>\n",
       "      <th>32</th>\n",
       "      <td>16.5</td>\n",
       "      <td>0.005075</td>\n",
       "      <td>0.958634</td>\n",
       "    </tr>\n",
       "    <tr>\n",
       "      <th>33</th>\n",
       "      <td>17.0</td>\n",
       "      <td>0.005100</td>\n",
       "      <td>0.957937</td>\n",
       "    </tr>\n",
       "    <tr>\n",
       "      <th>34</th>\n",
       "      <td>17.5</td>\n",
       "      <td>0.005125</td>\n",
       "      <td>0.957240</td>\n",
       "    </tr>\n",
       "    <tr>\n",
       "      <th>35</th>\n",
       "      <td>18.0</td>\n",
       "      <td>0.005150</td>\n",
       "      <td>0.956543</td>\n",
       "    </tr>\n",
       "    <tr>\n",
       "      <th>36</th>\n",
       "      <td>18.5</td>\n",
       "      <td>0.005175</td>\n",
       "      <td>0.955846</td>\n",
       "    </tr>\n",
       "    <tr>\n",
       "      <th>37</th>\n",
       "      <td>19.0</td>\n",
       "      <td>0.005200</td>\n",
       "      <td>0.955149</td>\n",
       "    </tr>\n",
       "    <tr>\n",
       "      <th>38</th>\n",
       "      <td>19.5</td>\n",
       "      <td>0.005225</td>\n",
       "      <td>0.954452</td>\n",
       "    </tr>\n",
       "    <tr>\n",
       "      <th>39</th>\n",
       "      <td>20.0</td>\n",
       "      <td>0.005250</td>\n",
       "      <td>0.953755</td>\n",
       "    </tr>\n",
       "  </tbody>\n",
       "</table>\n",
       "</div>"
      ],
      "text/plain": [
       "    Tenor      Rate  Discount Factor\n",
       "0     0.5  0.002500         0.998752\n",
       "1     1.0  0.003000         0.997009\n",
       "2     1.5  0.003125         0.995270\n",
       "3     2.0  0.003250         0.993531\n",
       "4     2.5  0.003300         0.991773\n",
       "5     3.0  0.003350         0.990015\n",
       "6     3.5  0.003425         0.988066\n",
       "7     4.0  0.003500         0.986117\n",
       "8     4.5  0.003550         0.984150\n",
       "9     5.0  0.003600         0.982184\n",
       "10    5.5  0.003700         0.980713\n",
       "11    6.0  0.003800         0.979242\n",
       "12    6.5  0.003900         0.977771\n",
       "13    7.0  0.004000         0.976299\n",
       "14    7.5  0.004083         0.975079\n",
       "15    8.0  0.004167         0.973858\n",
       "16    8.5  0.004250         0.972638\n",
       "17    9.0  0.004333         0.971417\n",
       "18    9.5  0.004417         0.970197\n",
       "19   10.0  0.004500         0.968976\n",
       "20   10.5  0.004550         0.968151\n",
       "21   11.0  0.004600         0.967326\n",
       "22   11.5  0.004650         0.966501\n",
       "23   12.0  0.004700         0.965676\n",
       "24   12.5  0.004750         0.964851\n",
       "25   13.0  0.004800         0.964026\n",
       "26   13.5  0.004850         0.963201\n",
       "27   14.0  0.004900         0.962376\n",
       "28   14.5  0.004950         0.961551\n",
       "29   15.0  0.005000         0.960726\n",
       "30   15.5  0.005025         0.960029\n",
       "31   16.0  0.005050         0.959332\n",
       "32   16.5  0.005075         0.958634\n",
       "33   17.0  0.005100         0.957937\n",
       "34   17.5  0.005125         0.957240\n",
       "35   18.0  0.005150         0.956543\n",
       "36   18.5  0.005175         0.955846\n",
       "37   19.0  0.005200         0.955149\n",
       "38   19.5  0.005225         0.954452\n",
       "39   20.0  0.005250         0.953755"
      ]
     },
     "execution_count": 7,
     "metadata": {},
     "output_type": "execute_result"
    }
   ],
   "source": [
    "### copied from Brandon's code\n",
    "\n",
    "# Interpolate for 0.5y periods\n",
    "tenor_intervals = np.arange(0.5, 20.5, 0.5)  # 0.5, 1.0, 1.5, ..., 10.0\n",
    "rate_interp = interp1d(ois[\"T\"], ois[\"Rate\"], kind='linear', fill_value=\"extrapolate\")\n",
    "df_interp = interp1d(ois[\"T\"], ois[DF_name], kind='linear', fill_value=\"extrapolate\")\n",
    "\n",
    "interpolated_rates = rate_interp(tenor_intervals)\n",
    "interpolated_dfs = df_interp(tenor_intervals)\n",
    "\n",
    "ois_discount_factors = pd.DataFrame({\n",
    "    'Tenor': tenor_intervals,\n",
    "    'Rate': interpolated_rates,\n",
    "    DF_name: interpolated_dfs\n",
    "})\n",
    "\n",
    "ois_discount_factors"
   ]
  },
  {
   "attachments": {
    "image-2.png": {
     "image/png": "[encoded data removed]"
    }
   },
   "cell_type": "markdown",
   "metadata": {},
   "source": [
    "## CMS Rate calculation (from project notes)\n",
    "![image-2.png](attachment:image-2.png)\n"
   ]
  },
  {
   "cell_type": "code",
   "execution_count": 8,
   "metadata": {},
   "outputs": [],
   "source": [
    "##### From Prof's cms_replication.ipynb\n",
    "\n",
    "\n",
    "def IRR_0(K, N, m=2):\n",
    "    # implementation of IRR(K) function\n",
    "    value = 1/K * ( 1.0 - 1/(1 + K/m)**(N*m) )\n",
    "    return value\n",
    "\n",
    "def IRR_1(K, N, m=2):\n",
    "    # implementation of IRR'(K) function (1st derivative)\n",
    "    firstDerivative = -1/K*IRR_0(K, m, N) + 1/(K*m)*N*m/(1+K/m)**(N*m+1)\n",
    "    return firstDerivative\n",
    "\n",
    "def IRR_2(K, N, m=2):\n",
    "    # implementation of IRR''(K) function (2nd derivative)\n",
    "    secondDerivative = -2/K*IRR_1(K, m, N) - 1/(K*m*m)*(N*m)*(N*m+1)/(1+K/m)**(N*m+2)\n",
    "    return secondDerivative\n",
    "\n",
    "\n",
    "def g_0(K):\n",
    "    return K\n",
    "\n",
    "def g_1(K):\n",
    "    return 1.0\n",
    "\n",
    "def g_2(K):\n",
    "    return 0.0\n",
    "\n",
    "def h_0(K, N, m=2):\n",
    "    # implementation of h(K)\n",
    "    value = g_0(K) / IRR_0(K, m, N)\n",
    "    return value\n",
    "\n",
    "def h_1(K, N, m=2):\n",
    "    # implementation of h'(K) (1st derivative)\n",
    "    firstDerivative = (IRR_0(K, m, N)*g_1(K) - g_0(K)*IRR_1(K, m, N)) / IRR_0(K, m, N)**2\n",
    "    return firstDerivative\n",
    "\n",
    "def h_2(K, N, m=2):\n",
    "    # implementation of h''(K) (2nd derivative)\n",
    "    secondDerivative = ((IRR_0(K, m, N)*g_2(K) - IRR_2(K, m, N)*g_0(K) - 2.0*IRR_1(K, m, N)*g_1(K))/IRR_0(K, m, N)**2 \n",
    "                        + 2.0*IRR_1(K, m, N)**2*g_0(K)/IRR_0(K, m, N)**3)\n",
    "    return secondDerivative"
   ]
  },
  {
   "cell_type": "markdown",
   "metadata": {},
   "source": [
    "We will also need to implement the IRR-settled payer and receiver swaption formulae:\n",
    "$$\n",
    "  \\begin{equation*}\n",
    "    \\begin{split}\n",
    "      V^{pay}_{n,N}(0) &= D(0,T_n) \\cdot \\text{IRR}(S_{n,N}(0)) \\cdot \\text{Black76Call}(S_{n,N}(0),K,\\sigma_{n,N},T) \\\\\n",
    "      V^{rec}_{n,N}(0) &= D(0,T_n) \\cdot \\text{IRR}(S_{n,N}(0)) \\cdot \\text{Black76Put}(S_{n,N}(0),K,\\sigma_{n,N},T) \\\\\n",
    "    \\end{split}\n",
    "  \\end{equation*}\n",
    "$$\n",
    "where $S_{n,N}(0)=F$ is today's forward swap rate calculated based on the curves we bootstrapped, and $\\sigma_{n,N}$ is the SABR implied volatility calibrated to swaption market data.|"
   ]
  },
  {
   "cell_type": "code",
   "execution_count": 9,
   "metadata": {},
   "outputs": [],
   "source": [
    "def calc_black_model_d1(F: float, K: float, sigma: float, T: float) -> float:\n",
    "    sigma_sqrt_time = sigma * np.sqrt(T)\n",
    "    num1 = np.log(F / K)\n",
    "    num2 = 0.5 * np.power(sigma, 2) * T\n",
    "    return ( num1 + num2 ) / sigma_sqrt_time\n",
    "\n",
    "def calc_black_model_d2(F: float, K: float, sigma: float, T: float) -> float:\n",
    "    sigma_sqrt_time = sigma * np.sqrt(T)\n",
    "    d1 = calc_black_model_d1(F, K, sigma, T)\n",
    "    return d1 - sigma_sqrt_time\n",
    "\n",
    "def BlackCall(F: float, K: float, sigma: float, T: float) -> float:\n",
    "    d1 = calc_black_model_d1(F, K, sigma, T)\n",
    "    d2 = calc_black_model_d2(F, K, sigma, T)\n",
    "    return (F * stats.norm.cdf(d1) - K * stats.norm.cdf(d2))\n",
    "\n",
    "def BlackPut(F: float, K: float,  sigma: float, T: float) -> float:\n",
    "    d1 = calc_black_model_d1(F, K, sigma, T)\n",
    "    d2 = calc_black_model_d2(F, K, sigma, T)\n",
    "    return (K * stats.norm.cdf(-d2) - F * stats.norm.cdf(-d1))"
   ]
  },
  {
   "cell_type": "code",
   "execution_count": 12,
   "metadata": {},
   "outputs": [],
   "source": [
    "def SABR(F, K, T, alpha, beta, rho, nu):\n",
    "    X = K\n",
    "    # if K is at-the-money-forward\n",
    "    if abs(F - K) < 1e-12:\n",
    "        numer1 = (((1 - beta)**2)/24)*alpha*alpha/(F**(2 - 2*beta))\n",
    "        numer2 = 0.25*rho*beta*nu*alpha/(F**(1 - beta))\n",
    "        numer3 = ((2 - 3*rho*rho)/24)*nu*nu\n",
    "        VolAtm = alpha*(1 + (numer1 + numer2 + numer3)*T)/(F**(1-beta))\n",
    "        sabrsigma = VolAtm\n",
    "    else:\n",
    "        z = (nu/alpha)*((F*X)**(0.5*(1-beta)))*np.log(F/X)\n",
    "        zhi = np.log((((1 - 2*rho*z + z*z)**0.5) + z - rho)/(1 - rho))\n",
    "        numer1 = (((1 - beta)**2)/24)*((alpha*alpha)/((F*X)**(1 - beta)))\n",
    "        numer2 = 0.25*rho*beta*nu*alpha/((F*X)**((1 - beta)/2))\n",
    "        numer3 = ((2 - 3*rho*rho)/24)*nu*nu\n",
    "        numer = alpha*(1 + (numer1 + numer2 + numer3)*T)*z\n",
    "        denom1 = ((1 - beta)**2/24)*(np.log(F/X))**2\n",
    "        denom2 = (((1 - beta)**4)/1920)*((np.log(F/X))**4)\n",
    "        denom = ((F*X)**((1 - beta)/2))*(1 + denom1 + denom2)*zhi\n",
    "        sabrsigma = numer/denom\n",
    "\n",
    "    return sabrsigma"
   ]
  },
  {
   "cell_type": "code",
   "execution_count": 46,
   "metadata": {},
   "outputs": [
    {
     "name": "stdout",
     "output_type": "stream",
     "text": [
      "Tenor         1Y        2Y        3Y        5Y       10Y\n",
      "Expiry                                                  \n",
      "1Y      0.063563  0.044052  0.040556  0.038900  0.040431\n",
      "5Y      0.077459  0.053087  0.047993  0.045576  0.046178\n",
      "10Y     0.086543  0.058661  0.053672  0.051339  0.057526\n"
     ]
    }
   ],
   "source": [
    "def calculate_discount_factor(rate, tenor, compounding=2):\n",
    "    \"\"\"\n",
    "    Calculate the discount factor for a given rate, tenor, and compounding frequency.\n",
    "    \"\"\"\n",
    "    return 1 / (1 + rate / compounding) ** (compounding * tenor)\n",
    "\n",
    "def convert_tenor(tenor):\n",
    "    if \"m\" in tenor:\n",
    "        return int(tenor.replace(\"m\", \"\")) / 12  # Convert months to years\n",
    "    elif \"y\" in tenor:\n",
    "        return int(tenor.replace(\"y\", \"\"))\n",
    "    return None\n",
    "\n",
    "\n",
    "def calculate_forward_swap_rate(tenor_start, tenor_end, fwd_strikes, compounding=2):\n",
    "    \"\"\"\n",
    "    Calculate the forward swap rate for a swap starting at tenor_start and ending at tenor_end.\n",
    "\n",
    "    Parameters:\n",
    "        tenor_start (float): Start of the swap (in years).\n",
    "        tenor_end (float): End of the swap (in years).\n",
    "        irs_rates (dict): Dictionary of IRS rates for different tenors.\n",
    "        compounding (int): Compounding frequency per year (default is 2 for semi-annual).\n",
    "\n",
    "    Returns:\n",
    "        float: Forward swap rate.\n",
    "    \"\"\"\n",
    "    # Extract tenors and rates from the DataFrame\n",
    "    fwd_strikes[\"Tenor_Years\"] = fwd_strikes[\"Tenor\"].apply(convert_tenor)\n",
    "    tenors = fwd_strikes['Tenor_Years']\n",
    "    rates = fwd_strikes['Rate'].values\n",
    "\n",
    "    # Create an interpolation function for the rates\n",
    "    interp_func = interp1d(tenors, rates, kind='linear', fill_value=\"extrapolate\")\n",
    "\n",
    "    rate_start = interp_func(tenor_start)\n",
    "    rate_end = interp_func(tenor_end)\n",
    "\n",
    "    # Get discount factors\n",
    "    disc_start = calculate_discount_factor(rate_start, tenor_start, compounding)\n",
    "    disc_end = calculate_discount_factor(rate_end, tenor_end, compounding)\n",
    "\n",
    "    # Calculate the sum of discount factors for the swap period\n",
    "    sum_disc = 0\n",
    "    t = tenor_start + 0.5\n",
    "    while t < tenor_end:\n",
    "        sum_disc += 0.5 * calculate_discount_factor(rate_end, t, compounding)\n",
    "        t += 0.5\n",
    "\n",
    "    # Calculate forward swap rate\n",
    "    forward_rate = (disc_start - disc_end) / sum_disc\n",
    "    return forward_rate\n",
    "\n",
    "fwd_strikes = pd.read_excel(\"IR Data.xlsx\", sheet_name = 'IRS' , engine = \"openpyxl\", usecols = [0,1,2])\n",
    "\n",
    "# Define expiries and tenors\n",
    "expiries = [1, 5, 10]  # Row indices (expiry in years)\n",
    "tenors = [1, 2, 3, 5, 10]  # Column indices (tenor in years)\n",
    "\n",
    "# Initialize the forward swap rate matrix\n",
    "forward_swap_matrix = np.zeros((len(expiries), len(tenors)))\n",
    "\n",
    "# Calculate forward swap rates for each expiry and tenor\n",
    "for i, expiry in enumerate(expiries):\n",
    "    for j, tenor in enumerate(tenors):\n",
    "        tenor_start = expiry\n",
    "        tenor_end = expiry + tenor\n",
    "        forward_swap_matrix[i, j] = calculate_forward_swap_rate(tenor_start, tenor_end, fwd_strikes)\n",
    "\n",
    "# Convert the matrix to a DataFrame for better visualization\n",
    "forward_swap_df = pd.DataFrame(forward_swap_matrix, index=[f\"{e}Y\" for e in expiries], columns=[f\"{t}Y\" for t in tenors])\n",
    "forward_swap_df.index.name = \"Expiry\"\n",
    "forward_swap_df.columns.name = \"Tenor\"\n",
    "\n",
    "# Print the forward swap rate matrix\n",
    "print(forward_swap_df)"
   ]
  },
  {
   "cell_type": "code",
   "execution_count": 47,
   "metadata": {},
   "outputs": [
    {
     "data": {
      "application/vnd.microsoft.datawrangler.viewer.v0+json": {
       "columns": [
        {
         "name": "index",
         "rawType": "object",
         "type": "string"
        },
        {
         "name": "1Y",
         "rawType": "float64",
         "type": "float"
        },
        {
         "name": "2Y",
         "rawType": "float64",
         "type": "float"
        },
        {
         "name": "3Y",
         "rawType": "float64",
         "type": "float"
        },
        {
         "name": "5Y",
         "rawType": "float64",
         "type": "float"
        },
        {
         "name": "10Y",
         "rawType": "float64",
         "type": "float"
        }
       ],
       "conversionMethod": "pd.DataFrame",
       "ref": "2246071d-adc2-4090-bb12-9bfe324503f0",
       "rows": [
        [
         "1Y",
         "0.13908",
         "0.184661",
         "0.197052",
         "0.178169",
         "0.171272"
        ],
        [
         "5Y",
         "0.166992",
         "0.199889",
         "0.210471",
         "0.18986",
         "0.174659"
        ],
        [
         "10Y",
         "0.177315",
         "0.195506",
         "0.208011",
         "0.20419",
         "0.182048"
        ]
       ],
       "shape": {
        "columns": 5,
        "rows": 3
       }
      },
      "text/html": [
       "<div>\n",
       "<style scoped>\n",
       "    .dataframe tbody tr th:only-of-type {\n",
       "        vertical-align: middle;\n",
       "    }\n",
       "\n",
       "    .dataframe tbody tr th {\n",
       "        vertical-align: top;\n",
       "    }\n",
       "\n",
       "    .dataframe thead th {\n",
       "        text-align: right;\n",
       "    }\n",
       "</style>\n",
       "<table border=\"1\" class=\"dataframe\">\n",
       "  <thead>\n",
       "    <tr style=\"text-align: right;\">\n",
       "      <th></th>\n",
       "      <th>1Y</th>\n",
       "      <th>2Y</th>\n",
       "      <th>3Y</th>\n",
       "      <th>5Y</th>\n",
       "      <th>10Y</th>\n",
       "    </tr>\n",
       "  </thead>\n",
       "  <tbody>\n",
       "    <tr>\n",
       "      <th>1Y</th>\n",
       "      <td>0.139080</td>\n",
       "      <td>0.184661</td>\n",
       "      <td>0.197052</td>\n",
       "      <td>0.178169</td>\n",
       "      <td>0.171272</td>\n",
       "    </tr>\n",
       "    <tr>\n",
       "      <th>5Y</th>\n",
       "      <td>0.166992</td>\n",
       "      <td>0.199889</td>\n",
       "      <td>0.210471</td>\n",
       "      <td>0.189860</td>\n",
       "      <td>0.174659</td>\n",
       "    </tr>\n",
       "    <tr>\n",
       "      <th>10Y</th>\n",
       "      <td>0.177315</td>\n",
       "      <td>0.195506</td>\n",
       "      <td>0.208011</td>\n",
       "      <td>0.204190</td>\n",
       "      <td>0.182048</td>\n",
       "    </tr>\n",
       "  </tbody>\n",
       "</table>\n",
       "</div>"
      ],
      "text/plain": [
       "           1Y        2Y        3Y        5Y       10Y\n",
       "1Y   0.139080  0.184661  0.197052  0.178169  0.171272\n",
       "5Y   0.166992  0.199889  0.210471  0.189860  0.174659\n",
       "10Y  0.177315  0.195506  0.208011  0.204190  0.182048"
      ]
     },
     "execution_count": 47,
     "metadata": {},
     "output_type": "execute_result"
    }
   ],
   "source": [
    "sabr_alpha = pd.read_excel(\"sabr_calibrated.xlsx\", sheet_name=\"sabr_alpha\", engine=\"openpyxl\", index_col=0)\n",
    "sabr_rho = pd.read_excel(\"sabr_calibrated.xlsx\", sheet_name=\"sabr_rho\", engine=\"openpyxl\", index_col=0)\n",
    "sabr_nu = pd.read_excel(\"sabr_calibrated.xlsx\", sheet_name=\"sabr_nu\", engine=\"openpyxl\", index_col=0)\n",
    "\n",
    "sabr_alpha\n"
   ]
  },
  {
   "cell_type": "code",
   "execution_count": 48,
   "metadata": {},
   "outputs": [],
   "source": [
    "expiry_range = np.arange(0.25,10.25, 0.25) # 0.25, 0.5, 0.75, ..., 10\n",
    "\n",
    "## interpolate sabr\n",
    "def interpolate_df(df):\n",
    "    # reindex so that can use to interpolate\n",
    "    df.index = df.index.str.replace('Y','').astype(float)\n",
    "\n",
    "    one_year_interp = interp1d(df.index, df['1Y'], kind='linear', fill_value=\"extrapolate\" )\n",
    "    two_year_interp = interp1d(df.index, df['2Y'], kind='linear', fill_value=\"extrapolate\" )\n",
    "    three_year_interp = interp1d(df.index, df['3Y'], kind='linear', fill_value=\"extrapolate\" )\n",
    "    five_year_interp = interp1d(df.index, df['5Y'], kind='linear', fill_value=\"extrapolate\" )\n",
    "    ten_year_interp = interp1d(df.index, df['10Y'], kind='linear', fill_value=\"extrapolate\" )\n",
    "    return pd.DataFrame({\n",
    "    '1Y': one_year_interp(expiry_range),\n",
    "    '2Y': two_year_interp(expiry_range),\n",
    "    '3Y': three_year_interp(expiry_range),\n",
    "    '5Y': five_year_interp(expiry_range),\n",
    "    '10Y': ten_year_interp(expiry_range)\n",
    "    }, index=expiry_range)\n",
    "    \n",
    "    \n",
    "sabr_alpha_interp = interpolate_df(sabr_alpha)\n",
    "sabr_rho_interp = interpolate_df(sabr_rho)\n",
    "sabr_nu_interp = interpolate_df(sabr_nu)\n",
    "forward_swap_df_interp = interpolate_df(forward_swap_df)"
   ]
  },
  {
   "cell_type": "code",
   "execution_count": 49,
   "metadata": {},
   "outputs": [
    {
     "data": {
      "application/vnd.microsoft.datawrangler.viewer.v0+json": {
       "columns": [
        {
         "name": "index",
         "rawType": "float64",
         "type": "float"
        },
        {
         "name": "1Y",
         "rawType": "float64",
         "type": "float"
        },
        {
         "name": "2Y",
         "rawType": "float64",
         "type": "float"
        },
        {
         "name": "3Y",
         "rawType": "float64",
         "type": "float"
        },
        {
         "name": "5Y",
         "rawType": "float64",
         "type": "float"
        },
        {
         "name": "10Y",
         "rawType": "float64",
         "type": "float"
        }
       ],
       "conversionMethod": "pd.DataFrame",
       "ref": "be108cc5-5373-4ae2-a4a4-e24037c26893",
       "rows": [
        [
         "0.25",
         "0.06095703448083762",
         "0.042358034864997604",
         "0.039161829289467834",
         "0.03764876430118094",
         "0.039353862425379554"
        ],
        [
         "0.5",
         "0.061825546104299134",
         "0.04292272446706864",
         "0.03962662787178105",
         "0.03806599172611689",
         "0.03971302057178034"
        ],
        [
         "0.75",
         "0.06269405772776065",
         "0.04348741406913968",
         "0.04009142645409426",
         "0.03848321915105284",
         "0.040072178718181126"
        ],
        [
         "1.0",
         "0.06356256935122218",
         "0.04405210367121072",
         "0.040556225036407476",
         "0.0389004465759888",
         "0.04043133686458191"
        ],
        [
         "1.25",
         "0.0644310809746837",
         "0.04461679327328176",
         "0.04102102361872069",
         "0.03931767400092475",
         "0.0407904950109827"
        ]
       ],
       "shape": {
        "columns": 5,
        "rows": 5
       }
      },
      "text/html": [
       "<div>\n",
       "<style scoped>\n",
       "    .dataframe tbody tr th:only-of-type {\n",
       "        vertical-align: middle;\n",
       "    }\n",
       "\n",
       "    .dataframe tbody tr th {\n",
       "        vertical-align: top;\n",
       "    }\n",
       "\n",
       "    .dataframe thead th {\n",
       "        text-align: right;\n",
       "    }\n",
       "</style>\n",
       "<table border=\"1\" class=\"dataframe\">\n",
       "  <thead>\n",
       "    <tr style=\"text-align: right;\">\n",
       "      <th></th>\n",
       "      <th>1Y</th>\n",
       "      <th>2Y</th>\n",
       "      <th>3Y</th>\n",
       "      <th>5Y</th>\n",
       "      <th>10Y</th>\n",
       "    </tr>\n",
       "  </thead>\n",
       "  <tbody>\n",
       "    <tr>\n",
       "      <th>0.25</th>\n",
       "      <td>0.060957</td>\n",
       "      <td>0.042358</td>\n",
       "      <td>0.039162</td>\n",
       "      <td>0.037649</td>\n",
       "      <td>0.039354</td>\n",
       "    </tr>\n",
       "    <tr>\n",
       "      <th>0.50</th>\n",
       "      <td>0.061826</td>\n",
       "      <td>0.042923</td>\n",
       "      <td>0.039627</td>\n",
       "      <td>0.038066</td>\n",
       "      <td>0.039713</td>\n",
       "    </tr>\n",
       "    <tr>\n",
       "      <th>0.75</th>\n",
       "      <td>0.062694</td>\n",
       "      <td>0.043487</td>\n",
       "      <td>0.040091</td>\n",
       "      <td>0.038483</td>\n",
       "      <td>0.040072</td>\n",
       "    </tr>\n",
       "    <tr>\n",
       "      <th>1.00</th>\n",
       "      <td>0.063563</td>\n",
       "      <td>0.044052</td>\n",
       "      <td>0.040556</td>\n",
       "      <td>0.038900</td>\n",
       "      <td>0.040431</td>\n",
       "    </tr>\n",
       "    <tr>\n",
       "      <th>1.25</th>\n",
       "      <td>0.064431</td>\n",
       "      <td>0.044617</td>\n",
       "      <td>0.041021</td>\n",
       "      <td>0.039318</td>\n",
       "      <td>0.040790</td>\n",
       "    </tr>\n",
       "  </tbody>\n",
       "</table>\n",
       "</div>"
      ],
      "text/plain": [
       "            1Y        2Y        3Y        5Y       10Y\n",
       "0.25  0.060957  0.042358  0.039162  0.037649  0.039354\n",
       "0.50  0.061826  0.042923  0.039627  0.038066  0.039713\n",
       "0.75  0.062694  0.043487  0.040091  0.038483  0.040072\n",
       "1.00  0.063563  0.044052  0.040556  0.038900  0.040431\n",
       "1.25  0.064431  0.044617  0.041021  0.039318  0.040790"
      ]
     },
     "execution_count": 49,
     "metadata": {},
     "output_type": "execute_result"
    }
   ],
   "source": [
    "forward_swap_df_interp.head(5)"
   ]
  },
  {
   "cell_type": "code",
   "execution_count": 61,
   "metadata": {},
   "outputs": [],
   "source": [
    "### eventually D(0,T) cancels away so we have\n",
    "\n",
    "def calc_cms_rate(\n",
    "        F: float,  #forward swap rate\n",
    "        N: float, # should be the tenor?\n",
    "        T: float, # \n",
    "        sabr_alpha: float,\n",
    "        sabr_rho: float,\n",
    "        sabr_nu: float\n",
    "):\n",
    "    # def SABR(F, K, T, alpha, beta, rho, nu):\n",
    "    # \n",
    "    sabr_beta = 0.9\n",
    "\n",
    "    integrand_receiver = lambda k: h_2(K=k, N=N) * IRR_0(F, N) * BlackPut(F, k, SABR(F, k, T, sabr_alpha, sabr_beta, sabr_rho, sabr_nu), T)\n",
    "    receiver_part, error = integrate.quad(integrand_receiver, 0, F)\n",
    "    print(f\"receiver error: {error}\" )\n",
    "\n",
    "    integrand_payer = lambda k: h_2(K=k, N=N) * IRR_0(F, N) * BlackCall(F, k, SABR(F, k, T, sabr_alpha, sabr_beta, sabr_rho, sabr_nu), T)\n",
    "    payer_part, error = integrate.quad(integrand_payer, F, np.inf)\n",
    "    print(f\"payer error: {error}\" )\n",
    "\n",
    "    return g_0(F) + receiver_part + payer_part"
   ]
  },
  {
   "cell_type": "code",
   "execution_count": 62,
   "metadata": {},
   "outputs": [
    {
     "name": "stdout",
     "output_type": "stream",
     "text": [
      "receiver error: 9.562947341548505e-10\n",
      "payer error: 1.3301889064080177e-10\n"
     ]
    },
    {
     "data": {
      "text/plain": [
       "0.13174589859430777"
      ]
     },
     "execution_count": 62,
     "metadata": {},
     "output_type": "execute_result"
    }
   ],
   "source": [
    "# Expectation of a S_{6m,10y6m}(6m)\n",
    "forward_swap_rate = forward_swap_df_interp.loc[0.5]['10Y']\n",
    "sabr_alpha_val = sabr_alpha_interp.loc[0.5]['10Y']\n",
    "sabr_rho_val = sabr_rho_interp.loc[0.5]['10Y']\n",
    "sabr_nu_val = sabr_nu_interp.loc[0.5]['10Y']\n",
    "\n",
    "calc_cms_rate(F=forward_swap_rate, \n",
    "              N=10, \n",
    "              T=0.5, \n",
    "              sabr_alpha=sabr_alpha_val,\n",
    "              sabr_rho=sabr_rho_val,\n",
    "              sabr_nu=sabr_nu_val\n",
    "              )"
   ]
  }
 ],
 "metadata": {
  "kernelspec": {
   "display_name": "base",
   "language": "python",
   "name": "python3"
  },
  "language_info": {
   "codemirror_mode": {
    "name": "ipython",
    "version": 3
   },
   "file_extension": ".py",
   "mimetype": "text/x-python",
   "name": "python",
   "nbconvert_exporter": "python",
   "pygments_lexer": "ipython3",
   "version": "3.12.4"
  }
 },
 "nbformat": 4,
 "nbformat_minor": 2
}
